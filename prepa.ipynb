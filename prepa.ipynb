{
 "cells": [
  {
   "cell_type": "code",
   "execution_count": 2,
   "metadata": {},
   "outputs": [],
   "source": [
    "import pandas as pd\n",
    "import matplotlib.pyplot as plt\n",
    "from sklearn.linear_model import LinearRegression, Lasso, Ridge\n",
    "import seaborn as sns\n",
    "from sklearn.model_selection import train_test_split\n",
    "from ydata_profiling import ProfileReport\n",
    "import numpy as np\n",
    "from sklearn.model_selection import GridSearchCV"
   ]
  },
  {
   "cell_type": "code",
   "execution_count": 3,
   "metadata": {},
   "outputs": [],
   "source": [
    "df = pd.read_csv('voiture.csv')\n"
   ]
  },
  {
   "cell_type": "code",
   "execution_count": 31,
   "metadata": {},
   "outputs": [],
   "source": [
    "df['marque'] = df['marque'].replace('maxda', 'mazda')\n",
    "df['marque'] = df['marque'].replace('Nissan', 'nissan')\n",
    "df['marque'] = df['marque'].replace('Nissan', 'nissan')\n",
    "df['marque'] = df['marque'].replace('porcshce', 'porsche')\n",
    "df['marque'] = df['marque'].replace('toyouta', 'toyota')\n",
    "df['marque'] = df['marque'].replace('vokswagen', 'volkswagen')\n",
    "df['marque'] = df['marque'].replace('vw', 'volkswagen')\n",
    "df['marque'] = df['marque'].replace('alfa-romero', 'alpha-romeo')"
   ]
  },
  {
   "cell_type": "code",
   "execution_count": 33,
   "metadata": {},
   "outputs": [],
   "source": [
    "df.to_csv(\"voiture_final.csv\")"
   ]
  },
  {
   "cell_type": "code",
   "execution_count": 32,
   "metadata": {},
   "outputs": [],
   "source": [
    "df.at[110, 'modele'] = '504 turbo break'\n",
    "df.at[116, 'modele'] = '504 turbo'\n",
    "df.at[113, 'modele'] = '504 essence break'\n",
    "df.at[115, 'modele'] = '504 gas 97ch'\n",
    "df.at[111, 'modele'] = '504 gas 95ch'"
   ]
  },
  {
   "cell_type": "code",
   "execution_count": 17,
   "metadata": {},
   "outputs": [],
   "source": [
    "aa=df.loc[df['modele']=='504']"
   ]
  },
  {
   "cell_type": "code",
   "execution_count": 18,
   "metadata": {},
   "outputs": [],
   "source": [
    "df = df.rename(columns={'symboling': 'etat_de_route',\n",
    "                        'CarName': 'marque_voiture',\n",
    "                        'fueltype': 'carburant',\n",
    "                        'aspiration': 'turbo',\n",
    "                        'doornumber': 'nombre_portes',\n",
    "                        'carbody': 'type_vehicule',\n",
    "                        'drivewheel': 'roues_motrices', \n",
    "                        'enginelocation': 'emplacement_moteur',\n",
    "                        'wheelbase': 'empattement', \n",
    "                        'carlength': 'longueur_voiture', \n",
    "                        'carwidth': 'largeur_voiture', \n",
    "                        'carheight': 'hauteur_voiture', \n",
    "                        'curbweight': 'poids_vehicule', \n",
    "                        'enginetype': 'type_moteur', \n",
    "                        'cylindernumber': 'nombre_cylindres', \n",
    "                        'enginesize': 'taille_moteur', \n",
    "                        'fuelsystem': 'systeme_carburant', \n",
    "                        'boreratio': 'taux_alésage', 'stroke': \n",
    "                        'course', 'compressionratio': 'taux_compression', \n",
    "                        'horsepower': 'chevaux', 'peakrpm': 'tour_moteur', \n",
    "                        'citympg': 'consommation_ville', \n",
    "                        'highwaympg': 'consommation_autoroute', \n",
    "                        'price': 'prix'})"
   ]
  },
  {
   "attachments": {},
   "cell_type": "markdown",
   "metadata": {},
   "source": [
    "### colonne marque_voiture : séparer les marques et les modeles."
   ]
  },
  {
   "cell_type": "code",
   "execution_count": 19,
   "metadata": {},
   "outputs": [
    {
     "name": "stderr",
     "output_type": "stream",
     "text": [
      "/tmp/ipykernel_9987/2267248324.py:1: FutureWarning: In a future version of pandas all arguments of StringMethods.split except for the argument 'pat' will be keyword-only.\n",
      "  df[['marque', 'modele']] = df['marque_voiture'].str.split(' ', 1, expand=True)\n"
     ]
    }
   ],
   "source": [
    "\n",
    "df[['marque', 'modele']] = df['marque_voiture'].str.split(' ', 1, expand=True)\n",
    "df = df.drop('marque_voiture', axis=1)\n"
   ]
  },
  {
   "attachments": {},
   "cell_type": "markdown",
   "metadata": {},
   "source": [
    " ### colonne turbo : Remplacer std par standard.\n",
    "\n"
   ]
  },
  {
   "cell_type": "code",
   "execution_count": 20,
   "metadata": {},
   "outputs": [
    {
     "name": "stdout",
     "output_type": "stream",
     "text": [
      "['standard' 'turbo']\n"
     ]
    }
   ],
   "source": [
    "df['turbo'] = df['turbo'].replace('std', 'standard')\n",
    "print(df['turbo'].unique())"
   ]
  },
  {
   "attachments": {},
   "cell_type": "markdown",
   "metadata": {},
   "source": [
    "### colonne nombre_portes : nombre de roues a convertir en chiffres."
   ]
  },
  {
   "cell_type": "code",
   "execution_count": 21,
   "metadata": {},
   "outputs": [
    {
     "name": "stdout",
     "output_type": "stream",
     "text": [
      "[2 4]\n"
     ]
    }
   ],
   "source": [
    "df['nombre_portes'] = df['nombre_portes'].replace({'two': '2', 'four': '4'}).astype(int)\n",
    "print(df['nombre_portes'].unique())"
   ]
  },
  {
   "attachments": {},
   "cell_type": "markdown",
   "metadata": {},
   "source": [
    "### colonne 7 : Traduire les valeurs en français."
   ]
  },
  {
   "cell_type": "code",
   "execution_count": 22,
   "metadata": {},
   "outputs": [
    {
     "name": "stdout",
     "output_type": "stream",
     "text": [
      "['decapotable' 'hayon' 'berline' 'break' 'coupe']\n"
     ]
    }
   ],
   "source": [
    "df['type_vehicule'] = df['type_vehicule'].replace({'convertible': 'decapotable', 'hatchback': 'hayon', 'sedan': 'berline', 'wagon': 'break', 'hardtop': 'coupe'})\n",
    "\n",
    "print(df['type_vehicule'].unique())"
   ]
  },
  {
   "attachments": {},
   "cell_type": "markdown",
   "metadata": {},
   "source": [
    "\n",
    "    Convertible : décapotable\n",
    "    Hatchback : hayon (ou voiture à hayon)\n",
    "    Sedan : berline\n",
    "    Wagon : break\n",
    "    Hardtop : coupé sans montants de toit apparents (c'est-à-dire avec une ligne de toit continue de l'avant à l'arrière)"
   ]
  },
  {
   "attachments": {},
   "cell_type": "markdown",
   "metadata": {},
   "source": [
    "### colonne roues_motrices : traduire en français."
   ]
  },
  {
   "cell_type": "code",
   "execution_count": 23,
   "metadata": {},
   "outputs": [
    {
     "name": "stdout",
     "output_type": "stream",
     "text": [
      "['arriere' 'avant' '4motrice']\n"
     ]
    }
   ],
   "source": [
    "df['roues_motrices'] = df['roues_motrices'].replace({'rwd': 'arriere', 'fwd': 'avant', '4wd': '4motrice',})\n",
    "\n",
    "print(df['roues_motrices'].unique())"
   ]
  },
  {
   "cell_type": "code",
   "execution_count": 1,
   "metadata": {},
   "outputs": [
    {
     "ename": "NameError",
     "evalue": "name 'df' is not defined",
     "output_type": "error",
     "traceback": [
      "\u001b[0;31m---------------------------------------------------------------------------\u001b[0m",
      "\u001b[0;31mNameError\u001b[0m                                 Traceback (most recent call last)",
      "Cell \u001b[0;32mIn[1], line 1\u001b[0m\n\u001b[0;32m----> 1\u001b[0m df\u001b[39m.\u001b[39mcorr()\n",
      "\u001b[0;31mNameError\u001b[0m: name 'df' is not defined"
     ]
    }
   ],
   "source": [
    "df.corr()"
   ]
  },
  {
   "attachments": {},
   "cell_type": "markdown",
   "metadata": {},
   "source": [
    "### colonne emplacement_moteur : Traduire en français."
   ]
  },
  {
   "cell_type": "code",
   "execution_count": 24,
   "metadata": {},
   "outputs": [
    {
     "name": "stdout",
     "output_type": "stream",
     "text": [
      "['devant' 'derrier']\n"
     ]
    }
   ],
   "source": [
    "df['emplacement_moteur'] = df['emplacement_moteur'].replace({'front': 'devant', 'rear': 'derrier',})\n",
    "\n",
    "print(df['emplacement_moteur'].unique())"
   ]
  },
  {
   "attachments": {},
   "cell_type": "markdown",
   "metadata": {},
   "source": [
    "### colonnes empattement, longueur_voiture, largeur_voiture, hauteur_voiture, poids_vehicule : convertir en metrique"
   ]
  },
  {
   "attachments": {},
   "cell_type": "markdown",
   "metadata": {},
   "source": [
    " - colonne empattement : pouces en metres\n",
    " - colonne longueur_voiture : pouces en metres\n",
    " - colonne largeur_voiture : pouces en metres\n",
    " - colonne hauteur_voiture : pouces en metres\n",
    " - colonne poids_vehicule : livres tonnes"
   ]
  },
  {
   "cell_type": "code",
   "execution_count": 25,
   "metadata": {},
   "outputs": [],
   "source": [
    "df['empattement'] = df['empattement'] / 39.37\n",
    "df['longueur_voiture'] = df['longueur_voiture'] / 39.37\n",
    "df['largeur_voiture'] = df['largeur_voiture'] / 39.37\n",
    "df['hauteur_voiture'] = df['hauteur_voiture'] / 39.37\n",
    "df['poids_vehicule'] = df['poids_vehicule'] / 2000"
   ]
  },
  {
   "cell_type": "code",
   "execution_count": 26,
   "metadata": {},
   "outputs": [],
   "source": [
    "df['empattement'] = df['empattement'].round(2)\n",
    "df['longueur_voiture'] = df['longueur_voiture'].round(2)\n",
    "df['largeur_voiture'] = df['largeur_voiture'].round(2)\n",
    "df['hauteur_voiture'] = df['hauteur_voiture'].round(2)\n",
    "df['poids_vehicule'] = df['poids_vehicule'].round(2)\n"
   ]
  },
  {
   "attachments": {},
   "cell_type": "markdown",
   "metadata": {},
   "source": [
    "### colonne type_moteur : Traduire en français."
   ]
  },
  {
   "attachments": {},
   "cell_type": "markdown",
   "metadata": {},
   "source": [
    " - 'dohc', : double ACT\n",
    " - 'ohcv', : soupapes en tête à manchon\n",
    " - 'ohc',  : ACT\n",
    " - 'l',    : ligne des cylindres\n",
    " - 'rotor',: moteur rotatif\n",
    " - 'ohcf', : soupapes en tête à flux croisés\n",
    " - 'dohcv' : double ACT à soupapes en V"
   ]
  },
  {
   "cell_type": "code",
   "execution_count": 27,
   "metadata": {},
   "outputs": [
    {
     "data": {
      "text/plain": [
       "array(['double ACT', 'soupapes en tête à manchon', 'ACT',\n",
       "       'ligne des cylindres', 'moteur rotatif',\n",
       "       'soupapes en tête à flux croisés', 'double ACT à soupapes en V'],\n",
       "      dtype=object)"
      ]
     },
     "execution_count": 27,
     "metadata": {},
     "output_type": "execute_result"
    }
   ],
   "source": [
    "df['type_moteur'] = df['type_moteur'].replace({'dohc': 'double ACT',\n",
    "                                                'ohcv': 'soupapes en tête à manchon',\n",
    "                                                'ohc': 'ACT',\n",
    "                                                'l': 'ligne des cylindres',\n",
    "                                                'rotor': 'moteur rotatif',\n",
    "                                                'ohcf': 'soupapes en tête à flux croisés',\n",
    "                                                'dohcv': 'double ACT à soupapes en V',})\n",
    "\n",
    "df['type_moteur'].unique()"
   ]
  },
  {
   "cell_type": "code",
   "execution_count": 28,
   "metadata": {},
   "outputs": [
    {
     "name": "stderr",
     "output_type": "stream",
     "text": [
      "/tmp/ipykernel_9987/3725372285.py:2: DeprecationWarning: In a future version, `df.iloc[:, i] = newvals` will attempt to set the values inplace instead of always setting a new array. To retain the old behavior, use either `df[df.columns[i]] = newvals` or, if columns are non-unique, `df.isetitem(i, newvals)`\n",
      "  df.loc[:, 'taille_moteur'] = round(df.loc[:, 'taille_moteur'] * 16.387)\n"
     ]
    }
   ],
   "source": [
    "df[\"nombre_cylindres\"].replace({\"two\": 2, \"three\":3, \"four\":4, \"five\":5, \"six\":6, \"eight\":8, \"twelve\":12}, inplace=True)\n",
    "df.loc[:, 'taille_moteur'] = round(df.loc[:, 'taille_moteur'] * 16.387)\n",
    "df[\"systeme_carburant\"].replace({\"mpfi\": \"injection multipoint multipoint port unique\", \"2bbl\": \"carburateur 2 corps\", \"mfi\":\"injection carburant multipoint\", \"1bbl\":\"carburateur 1 corps\", \"spfi\": \"injection monopoint\", \"4bbl\":\"carburateur 4 corps\", \"idi\":\"injection indirecte\", \"spdi\":\"injection D monopoint\"}, inplace=True)\n",
    "\n",
    "df['consommation_ville'] = 235.214583/df['consommation_ville']\n",
    "df['consommation_autoroute'] = 235.214583/df['consommation_autoroute']"
   ]
  },
  {
   "cell_type": "code",
   "execution_count": 29,
   "metadata": {},
   "outputs": [],
   "source": [
    "df = df.rename(columns={'taille_moteur': 'moteur_cc3'})"
   ]
  },
  {
   "cell_type": "code",
   "execution_count": 30,
   "metadata": {},
   "outputs": [],
   "source": [
    "y = df['prix']# ou df.drop(\"price\", axis=1) pr dire qu'on suppr 1 colonne)\n",
    "#X = df[[\"longueur_voiture\",\"largeur_voiture\",\"empattement\",\"nombre_cylindres\",\"moteur_cc3\",\"taux_alésage\",\"chevaux\",\"consommation_ville\",\"consommation_autoroute\"]]\n",
    "X = df[[\"longueur_voiture\",\"largeur_voiture\",\"empattement\",\"nombre_cylindres\",\"moteur_cc3\",\"chevaux\",\"consommation_ville\",\"consommation_autoroute\"]]\n",
    "X_train, X_test, y_train, y_test = train_test_split(X, y, train_size=0.8, random_state=42)"
   ]
  },
  {
   "cell_type": "code",
   "execution_count": null,
   "metadata": {},
   "outputs": [
    {
     "name": "stderr",
     "output_type": "stream",
     "text": [
      "/tmp/ipykernel_11035/1134722465.py:1: FutureWarning: The default value of numeric_only in DataFrame.corr is deprecated. In a future version, it will default to False. Select only valid columns or specify the value of numeric_only to silence this warning.\n",
      "  df.corr()\n"
     ]
    },
    {
     "data": {
      "text/html": [
       "<div>\n",
       "<style scoped>\n",
       "    .dataframe tbody tr th:only-of-type {\n",
       "        vertical-align: middle;\n",
       "    }\n",
       "\n",
       "    .dataframe tbody tr th {\n",
       "        vertical-align: top;\n",
       "    }\n",
       "\n",
       "    .dataframe thead th {\n",
       "        text-align: right;\n",
       "    }\n",
       "</style>\n",
       "<table border=\"1\" class=\"dataframe\">\n",
       "  <thead>\n",
       "    <tr style=\"text-align: right;\">\n",
       "      <th></th>\n",
       "      <th>car_ID</th>\n",
       "      <th>etat_de_route</th>\n",
       "      <th>nombre_portes</th>\n",
       "      <th>empattement</th>\n",
       "      <th>longueur_voiture</th>\n",
       "      <th>largeur_voiture</th>\n",
       "      <th>hauteur_voiture</th>\n",
       "      <th>poids_vehicule</th>\n",
       "      <th>nombre_cylindres</th>\n",
       "      <th>moteur_cc3</th>\n",
       "      <th>taux_alésage</th>\n",
       "      <th>course</th>\n",
       "      <th>taux_compression</th>\n",
       "      <th>chevaux</th>\n",
       "      <th>tour_moteur</th>\n",
       "      <th>consommation_ville</th>\n",
       "      <th>consommation_autoroute</th>\n",
       "      <th>prix</th>\n",
       "    </tr>\n",
       "  </thead>\n",
       "  <tbody>\n",
       "    <tr>\n",
       "      <th>car_ID</th>\n",
       "      <td>1.000000</td>\n",
       "      <td>-0.153056</td>\n",
       "      <td>0.192217</td>\n",
       "      <td>0.132812</td>\n",
       "      <td>0.176858</td>\n",
       "      <td>0.062782</td>\n",
       "      <td>0.258044</td>\n",
       "      <td>0.078967</td>\n",
       "      <td>-0.092530</td>\n",
       "      <td>-0.030389</td>\n",
       "      <td>0.255316</td>\n",
       "      <td>-0.150693</td>\n",
       "      <td>0.152009</td>\n",
       "      <td>-0.010567</td>\n",
       "      <td>-0.200893</td>\n",
       "      <td>-0.086523</td>\n",
       "      <td>-0.067933</td>\n",
       "      <td>-0.104148</td>\n",
       "    </tr>\n",
       "    <tr>\n",
       "      <th>etat_de_route</th>\n",
       "      <td>-0.153056</td>\n",
       "      <td>1.000000</td>\n",
       "      <td>-0.661474</td>\n",
       "      <td>-0.529742</td>\n",
       "      <td>-0.355320</td>\n",
       "      <td>-0.245507</td>\n",
       "      <td>-0.552426</td>\n",
       "      <td>-0.227850</td>\n",
       "      <td>-0.113103</td>\n",
       "      <td>-0.104538</td>\n",
       "      <td>-0.132650</td>\n",
       "      <td>-0.002115</td>\n",
       "      <td>-0.178352</td>\n",
       "      <td>0.073560</td>\n",
       "      <td>0.274903</td>\n",
       "      <td>0.064587</td>\n",
       "      <td>-0.029634</td>\n",
       "      <td>-0.078380</td>\n",
       "    </tr>\n",
       "    <tr>\n",
       "      <th>nombre_portes</th>\n",
       "      <td>0.192217</td>\n",
       "      <td>-0.661474</td>\n",
       "      <td>1.000000</td>\n",
       "      <td>0.445709</td>\n",
       "      <td>0.395728</td>\n",
       "      <td>0.208386</td>\n",
       "      <td>0.562422</td>\n",
       "      <td>0.196744</td>\n",
       "      <td>-0.016530</td>\n",
       "      <td>0.018844</td>\n",
       "      <td>0.121864</td>\n",
       "      <td>-0.019072</td>\n",
       "      <td>0.177940</td>\n",
       "      <td>-0.130456</td>\n",
       "      <td>-0.249012</td>\n",
       "      <td>-0.035329</td>\n",
       "      <td>0.019535</td>\n",
       "      <td>0.029780</td>\n",
       "    </tr>\n",
       "    <tr>\n",
       "      <th>empattement</th>\n",
       "      <td>0.132812</td>\n",
       "      <td>-0.529742</td>\n",
       "      <td>0.445709</td>\n",
       "      <td>1.000000</td>\n",
       "      <td>0.875576</td>\n",
       "      <td>0.805104</td>\n",
       "      <td>0.594631</td>\n",
       "      <td>0.776704</td>\n",
       "      <td>0.336982</td>\n",
       "      <td>0.567747</td>\n",
       "      <td>0.499073</td>\n",
       "      <td>0.153479</td>\n",
       "      <td>0.247272</td>\n",
       "      <td>0.351404</td>\n",
       "      <td>-0.364372</td>\n",
       "      <td>0.472851</td>\n",
       "      <td>0.577252</td>\n",
       "      <td>0.575295</td>\n",
       "    </tr>\n",
       "    <tr>\n",
       "      <th>longueur_voiture</th>\n",
       "      <td>0.176858</td>\n",
       "      <td>-0.355320</td>\n",
       "      <td>0.395728</td>\n",
       "      <td>0.875576</td>\n",
       "      <td>1.000000</td>\n",
       "      <td>0.843830</td>\n",
       "      <td>0.494111</td>\n",
       "      <td>0.877831</td>\n",
       "      <td>0.430784</td>\n",
       "      <td>0.683317</td>\n",
       "      <td>0.622034</td>\n",
       "      <td>0.112482</td>\n",
       "      <td>0.156519</td>\n",
       "      <td>0.550760</td>\n",
       "      <td>-0.292961</td>\n",
       "      <td>0.658438</td>\n",
       "      <td>0.711687</td>\n",
       "      <td>0.681352</td>\n",
       "    </tr>\n",
       "    <tr>\n",
       "      <th>largeur_voiture</th>\n",
       "      <td>0.062782</td>\n",
       "      <td>-0.245507</td>\n",
       "      <td>0.208386</td>\n",
       "      <td>0.805104</td>\n",
       "      <td>0.843830</td>\n",
       "      <td>1.000000</td>\n",
       "      <td>0.293089</td>\n",
       "      <td>0.868911</td>\n",
       "      <td>0.539637</td>\n",
       "      <td>0.732134</td>\n",
       "      <td>0.576379</td>\n",
       "      <td>0.164671</td>\n",
       "      <td>0.185744</td>\n",
       "      <td>0.632568</td>\n",
       "      <td>-0.230316</td>\n",
       "      <td>0.675431</td>\n",
       "      <td>0.723801</td>\n",
       "      <td>0.756895</td>\n",
       "    </tr>\n",
       "    <tr>\n",
       "      <th>hauteur_voiture</th>\n",
       "      <td>0.258044</td>\n",
       "      <td>-0.552426</td>\n",
       "      <td>0.562422</td>\n",
       "      <td>0.594631</td>\n",
       "      <td>0.494111</td>\n",
       "      <td>0.293089</td>\n",
       "      <td>1.000000</td>\n",
       "      <td>0.300932</td>\n",
       "      <td>-0.017839</td>\n",
       "      <td>0.068292</td>\n",
       "      <td>0.181325</td>\n",
       "      <td>-0.059491</td>\n",
       "      <td>0.260261</td>\n",
       "      <td>-0.110295</td>\n",
       "      <td>-0.322088</td>\n",
       "      <td>-0.002428</td>\n",
       "      <td>0.089538</td>\n",
       "      <td>0.120855</td>\n",
       "    </tr>\n",
       "    <tr>\n",
       "      <th>poids_vehicule</th>\n",
       "      <td>0.078967</td>\n",
       "      <td>-0.227850</td>\n",
       "      <td>0.196744</td>\n",
       "      <td>0.776704</td>\n",
       "      <td>0.877831</td>\n",
       "      <td>0.868911</td>\n",
       "      <td>0.300932</td>\n",
       "      <td>1.000000</td>\n",
       "      <td>0.609702</td>\n",
       "      <td>0.850423</td>\n",
       "      <td>0.664808</td>\n",
       "      <td>0.153083</td>\n",
       "      <td>0.151115</td>\n",
       "      <td>0.748894</td>\n",
       "      <td>-0.273513</td>\n",
       "      <td>0.789433</td>\n",
       "      <td>0.834638</td>\n",
       "      <td>0.833389</td>\n",
       "    </tr>\n",
       "    <tr>\n",
       "      <th>nombre_cylindres</th>\n",
       "      <td>-0.092530</td>\n",
       "      <td>-0.113103</td>\n",
       "      <td>-0.016530</td>\n",
       "      <td>0.336982</td>\n",
       "      <td>0.430784</td>\n",
       "      <td>0.539637</td>\n",
       "      <td>-0.017839</td>\n",
       "      <td>0.609702</td>\n",
       "      <td>1.000000</td>\n",
       "      <td>0.846046</td>\n",
       "      <td>0.236627</td>\n",
       "      <td>-0.000192</td>\n",
       "      <td>-0.020803</td>\n",
       "      <td>0.691805</td>\n",
       "      <td>-0.126475</td>\n",
       "      <td>0.561112</td>\n",
       "      <td>0.588558</td>\n",
       "      <td>0.718537</td>\n",
       "    </tr>\n",
       "    <tr>\n",
       "      <th>moteur_cc3</th>\n",
       "      <td>-0.030389</td>\n",
       "      <td>-0.104538</td>\n",
       "      <td>0.018844</td>\n",
       "      <td>0.567747</td>\n",
       "      <td>0.683317</td>\n",
       "      <td>0.732134</td>\n",
       "      <td>0.068292</td>\n",
       "      <td>0.850423</td>\n",
       "      <td>0.846046</td>\n",
       "      <td>1.000000</td>\n",
       "      <td>0.594402</td>\n",
       "      <td>0.194800</td>\n",
       "      <td>0.027726</td>\n",
       "      <td>0.808972</td>\n",
       "      <td>-0.248693</td>\n",
       "      <td>0.744112</td>\n",
       "      <td>0.776337</td>\n",
       "      <td>0.873894</td>\n",
       "    </tr>\n",
       "    <tr>\n",
       "      <th>taux_alésage</th>\n",
       "      <td>0.255316</td>\n",
       "      <td>-0.132650</td>\n",
       "      <td>0.121864</td>\n",
       "      <td>0.499073</td>\n",
       "      <td>0.622034</td>\n",
       "      <td>0.576379</td>\n",
       "      <td>0.181325</td>\n",
       "      <td>0.664808</td>\n",
       "      <td>0.236627</td>\n",
       "      <td>0.594402</td>\n",
       "      <td>1.000000</td>\n",
       "      <td>-0.031475</td>\n",
       "      <td>0.007627</td>\n",
       "      <td>0.586288</td>\n",
       "      <td>-0.250710</td>\n",
       "      <td>0.572150</td>\n",
       "      <td>0.566423</td>\n",
       "      <td>0.568206</td>\n",
       "    </tr>\n",
       "    <tr>\n",
       "      <th>course</th>\n",
       "      <td>-0.150693</td>\n",
       "      <td>-0.002115</td>\n",
       "      <td>-0.019072</td>\n",
       "      <td>0.153479</td>\n",
       "      <td>0.112482</td>\n",
       "      <td>0.164671</td>\n",
       "      <td>-0.059491</td>\n",
       "      <td>0.153083</td>\n",
       "      <td>-0.000192</td>\n",
       "      <td>0.194800</td>\n",
       "      <td>-0.031475</td>\n",
       "      <td>1.000000</td>\n",
       "      <td>0.186137</td>\n",
       "      <td>0.065097</td>\n",
       "      <td>-0.083931</td>\n",
       "      <td>0.020361</td>\n",
       "      <td>0.036273</td>\n",
       "      <td>0.059565</td>\n",
       "    </tr>\n",
       "    <tr>\n",
       "      <th>taux_compression</th>\n",
       "      <td>0.152009</td>\n",
       "      <td>-0.178352</td>\n",
       "      <td>0.177940</td>\n",
       "      <td>0.247272</td>\n",
       "      <td>0.156519</td>\n",
       "      <td>0.185744</td>\n",
       "      <td>0.260261</td>\n",
       "      <td>0.151115</td>\n",
       "      <td>-0.020803</td>\n",
       "      <td>0.027726</td>\n",
       "      <td>0.007627</td>\n",
       "      <td>0.186137</td>\n",
       "      <td>1.000000</td>\n",
       "      <td>-0.206657</td>\n",
       "      <td>-0.437822</td>\n",
       "      <td>-0.300563</td>\n",
       "      <td>-0.226197</td>\n",
       "      <td>0.066200</td>\n",
       "    </tr>\n",
       "    <tr>\n",
       "      <th>chevaux</th>\n",
       "      <td>-0.010567</td>\n",
       "      <td>0.073560</td>\n",
       "      <td>-0.130456</td>\n",
       "      <td>0.351404</td>\n",
       "      <td>0.550760</td>\n",
       "      <td>0.632568</td>\n",
       "      <td>-0.110295</td>\n",
       "      <td>0.748894</td>\n",
       "      <td>0.691805</td>\n",
       "      <td>0.808972</td>\n",
       "      <td>0.586288</td>\n",
       "      <td>0.065097</td>\n",
       "      <td>-0.206657</td>\n",
       "      <td>1.000000</td>\n",
       "      <td>0.127674</td>\n",
       "      <td>0.870354</td>\n",
       "      <td>0.800801</td>\n",
       "      <td>0.806986</td>\n",
       "    </tr>\n",
       "    <tr>\n",
       "      <th>tour_moteur</th>\n",
       "      <td>-0.200893</td>\n",
       "      <td>0.274903</td>\n",
       "      <td>-0.249012</td>\n",
       "      <td>-0.364372</td>\n",
       "      <td>-0.292961</td>\n",
       "      <td>-0.230316</td>\n",
       "      <td>-0.322088</td>\n",
       "      <td>-0.273513</td>\n",
       "      <td>-0.126475</td>\n",
       "      <td>-0.248693</td>\n",
       "      <td>-0.250710</td>\n",
       "      <td>-0.083931</td>\n",
       "      <td>-0.437822</td>\n",
       "      <td>0.127674</td>\n",
       "      <td>1.000000</td>\n",
       "      <td>0.115764</td>\n",
       "      <td>0.011343</td>\n",
       "      <td>-0.090774</td>\n",
       "    </tr>\n",
       "    <tr>\n",
       "      <th>consommation_ville</th>\n",
       "      <td>-0.086523</td>\n",
       "      <td>0.064587</td>\n",
       "      <td>-0.035329</td>\n",
       "      <td>0.472851</td>\n",
       "      <td>0.658438</td>\n",
       "      <td>0.675431</td>\n",
       "      <td>-0.002428</td>\n",
       "      <td>0.789433</td>\n",
       "      <td>0.561112</td>\n",
       "      <td>0.744112</td>\n",
       "      <td>0.572150</td>\n",
       "      <td>0.020361</td>\n",
       "      <td>-0.300563</td>\n",
       "      <td>0.870354</td>\n",
       "      <td>0.115764</td>\n",
       "      <td>1.000000</td>\n",
       "      <td>0.954874</td>\n",
       "      <td>0.786919</td>\n",
       "    </tr>\n",
       "    <tr>\n",
       "      <th>consommation_autoroute</th>\n",
       "      <td>-0.067933</td>\n",
       "      <td>-0.029634</td>\n",
       "      <td>0.019535</td>\n",
       "      <td>0.577252</td>\n",
       "      <td>0.711687</td>\n",
       "      <td>0.723801</td>\n",
       "      <td>0.089538</td>\n",
       "      <td>0.834638</td>\n",
       "      <td>0.588558</td>\n",
       "      <td>0.776337</td>\n",
       "      <td>0.566423</td>\n",
       "      <td>0.036273</td>\n",
       "      <td>-0.226197</td>\n",
       "      <td>0.800801</td>\n",
       "      <td>0.011343</td>\n",
       "      <td>0.954874</td>\n",
       "      <td>1.000000</td>\n",
       "      <td>0.789568</td>\n",
       "    </tr>\n",
       "    <tr>\n",
       "      <th>prix</th>\n",
       "      <td>-0.104148</td>\n",
       "      <td>-0.078380</td>\n",
       "      <td>0.029780</td>\n",
       "      <td>0.575295</td>\n",
       "      <td>0.681352</td>\n",
       "      <td>0.756895</td>\n",
       "      <td>0.120855</td>\n",
       "      <td>0.833389</td>\n",
       "      <td>0.718537</td>\n",
       "      <td>0.873894</td>\n",
       "      <td>0.568206</td>\n",
       "      <td>0.059565</td>\n",
       "      <td>0.066200</td>\n",
       "      <td>0.806986</td>\n",
       "      <td>-0.090774</td>\n",
       "      <td>0.786919</td>\n",
       "      <td>0.789568</td>\n",
       "      <td>1.000000</td>\n",
       "    </tr>\n",
       "  </tbody>\n",
       "</table>\n",
       "</div>"
      ],
      "text/plain": [
       "                          car_ID  etat_de_route  nombre_portes  empattement  \\\n",
       "car_ID                  1.000000      -0.153056       0.192217     0.132812   \n",
       "etat_de_route          -0.153056       1.000000      -0.661474    -0.529742   \n",
       "nombre_portes           0.192217      -0.661474       1.000000     0.445709   \n",
       "empattement             0.132812      -0.529742       0.445709     1.000000   \n",
       "longueur_voiture        0.176858      -0.355320       0.395728     0.875576   \n",
       "largeur_voiture         0.062782      -0.245507       0.208386     0.805104   \n",
       "hauteur_voiture         0.258044      -0.552426       0.562422     0.594631   \n",
       "poids_vehicule          0.078967      -0.227850       0.196744     0.776704   \n",
       "nombre_cylindres       -0.092530      -0.113103      -0.016530     0.336982   \n",
       "moteur_cc3             -0.030389      -0.104538       0.018844     0.567747   \n",
       "taux_alésage            0.255316      -0.132650       0.121864     0.499073   \n",
       "course                 -0.150693      -0.002115      -0.019072     0.153479   \n",
       "taux_compression        0.152009      -0.178352       0.177940     0.247272   \n",
       "chevaux                -0.010567       0.073560      -0.130456     0.351404   \n",
       "tour_moteur            -0.200893       0.274903      -0.249012    -0.364372   \n",
       "consommation_ville     -0.086523       0.064587      -0.035329     0.472851   \n",
       "consommation_autoroute -0.067933      -0.029634       0.019535     0.577252   \n",
       "prix                   -0.104148      -0.078380       0.029780     0.575295   \n",
       "\n",
       "                        longueur_voiture  largeur_voiture  hauteur_voiture  \\\n",
       "car_ID                          0.176858         0.062782         0.258044   \n",
       "etat_de_route                  -0.355320        -0.245507        -0.552426   \n",
       "nombre_portes                   0.395728         0.208386         0.562422   \n",
       "empattement                     0.875576         0.805104         0.594631   \n",
       "longueur_voiture                1.000000         0.843830         0.494111   \n",
       "largeur_voiture                 0.843830         1.000000         0.293089   \n",
       "hauteur_voiture                 0.494111         0.293089         1.000000   \n",
       "poids_vehicule                  0.877831         0.868911         0.300932   \n",
       "nombre_cylindres                0.430784         0.539637        -0.017839   \n",
       "moteur_cc3                      0.683317         0.732134         0.068292   \n",
       "taux_alésage                    0.622034         0.576379         0.181325   \n",
       "course                          0.112482         0.164671        -0.059491   \n",
       "taux_compression                0.156519         0.185744         0.260261   \n",
       "chevaux                         0.550760         0.632568        -0.110295   \n",
       "tour_moteur                    -0.292961        -0.230316        -0.322088   \n",
       "consommation_ville              0.658438         0.675431        -0.002428   \n",
       "consommation_autoroute          0.711687         0.723801         0.089538   \n",
       "prix                            0.681352         0.756895         0.120855   \n",
       "\n",
       "                        poids_vehicule  nombre_cylindres  moteur_cc3  \\\n",
       "car_ID                        0.078967         -0.092530   -0.030389   \n",
       "etat_de_route                -0.227850         -0.113103   -0.104538   \n",
       "nombre_portes                 0.196744         -0.016530    0.018844   \n",
       "empattement                   0.776704          0.336982    0.567747   \n",
       "longueur_voiture              0.877831          0.430784    0.683317   \n",
       "largeur_voiture               0.868911          0.539637    0.732134   \n",
       "hauteur_voiture               0.300932         -0.017839    0.068292   \n",
       "poids_vehicule                1.000000          0.609702    0.850423   \n",
       "nombre_cylindres              0.609702          1.000000    0.846046   \n",
       "moteur_cc3                    0.850423          0.846046    1.000000   \n",
       "taux_alésage                  0.664808          0.236627    0.594402   \n",
       "course                        0.153083         -0.000192    0.194800   \n",
       "taux_compression              0.151115         -0.020803    0.027726   \n",
       "chevaux                       0.748894          0.691805    0.808972   \n",
       "tour_moteur                  -0.273513         -0.126475   -0.248693   \n",
       "consommation_ville            0.789433          0.561112    0.744112   \n",
       "consommation_autoroute        0.834638          0.588558    0.776337   \n",
       "prix                          0.833389          0.718537    0.873894   \n",
       "\n",
       "                        taux_alésage    course  taux_compression   chevaux  \\\n",
       "car_ID                      0.255316 -0.150693          0.152009 -0.010567   \n",
       "etat_de_route              -0.132650 -0.002115         -0.178352  0.073560   \n",
       "nombre_portes               0.121864 -0.019072          0.177940 -0.130456   \n",
       "empattement                 0.499073  0.153479          0.247272  0.351404   \n",
       "longueur_voiture            0.622034  0.112482          0.156519  0.550760   \n",
       "largeur_voiture             0.576379  0.164671          0.185744  0.632568   \n",
       "hauteur_voiture             0.181325 -0.059491          0.260261 -0.110295   \n",
       "poids_vehicule              0.664808  0.153083          0.151115  0.748894   \n",
       "nombre_cylindres            0.236627 -0.000192         -0.020803  0.691805   \n",
       "moteur_cc3                  0.594402  0.194800          0.027726  0.808972   \n",
       "taux_alésage                1.000000 -0.031475          0.007627  0.586288   \n",
       "course                     -0.031475  1.000000          0.186137  0.065097   \n",
       "taux_compression            0.007627  0.186137          1.000000 -0.206657   \n",
       "chevaux                     0.586288  0.065097         -0.206657  1.000000   \n",
       "tour_moteur                -0.250710 -0.083931         -0.437822  0.127674   \n",
       "consommation_ville          0.572150  0.020361         -0.300563  0.870354   \n",
       "consommation_autoroute      0.566423  0.036273         -0.226197  0.800801   \n",
       "prix                        0.568206  0.059565          0.066200  0.806986   \n",
       "\n",
       "                        tour_moteur  consommation_ville  \\\n",
       "car_ID                    -0.200893           -0.086523   \n",
       "etat_de_route              0.274903            0.064587   \n",
       "nombre_portes             -0.249012           -0.035329   \n",
       "empattement               -0.364372            0.472851   \n",
       "longueur_voiture          -0.292961            0.658438   \n",
       "largeur_voiture           -0.230316            0.675431   \n",
       "hauteur_voiture           -0.322088           -0.002428   \n",
       "poids_vehicule            -0.273513            0.789433   \n",
       "nombre_cylindres          -0.126475            0.561112   \n",
       "moteur_cc3                -0.248693            0.744112   \n",
       "taux_alésage              -0.250710            0.572150   \n",
       "course                    -0.083931            0.020361   \n",
       "taux_compression          -0.437822           -0.300563   \n",
       "chevaux                    0.127674            0.870354   \n",
       "tour_moteur                1.000000            0.115764   \n",
       "consommation_ville         0.115764            1.000000   \n",
       "consommation_autoroute     0.011343            0.954874   \n",
       "prix                      -0.090774            0.786919   \n",
       "\n",
       "                        consommation_autoroute      prix  \n",
       "car_ID                               -0.067933 -0.104148  \n",
       "etat_de_route                        -0.029634 -0.078380  \n",
       "nombre_portes                         0.019535  0.029780  \n",
       "empattement                           0.577252  0.575295  \n",
       "longueur_voiture                      0.711687  0.681352  \n",
       "largeur_voiture                       0.723801  0.756895  \n",
       "hauteur_voiture                       0.089538  0.120855  \n",
       "poids_vehicule                        0.834638  0.833389  \n",
       "nombre_cylindres                      0.588558  0.718537  \n",
       "moteur_cc3                            0.776337  0.873894  \n",
       "taux_alésage                          0.566423  0.568206  \n",
       "course                                0.036273  0.059565  \n",
       "taux_compression                     -0.226197  0.066200  \n",
       "chevaux                               0.800801  0.806986  \n",
       "tour_moteur                           0.011343 -0.090774  \n",
       "consommation_ville                    0.954874  0.786919  \n",
       "consommation_autoroute                1.000000  0.789568  \n",
       "prix                                  0.789568  1.000000  "
      ]
     },
     "execution_count": 34,
     "metadata": {},
     "output_type": "execute_result"
    }
   ],
   "source": [
    "df.corr()"
   ]
  },
  {
   "cell_type": "code",
   "execution_count": null,
   "metadata": {},
   "outputs": [
    {
     "data": {
      "text/plain": [
       "0.6926004218209902"
      ]
     },
     "execution_count": 37,
     "metadata": {},
     "output_type": "execute_result"
    }
   ],
   "source": [
    "model = LinearRegression()\n",
    "trained_model = model.fit(X_train,y_train)\n",
    "trained_model.score(X_test,y_test)\n",
    "# model.predict(X)\n"
   ]
  },
  {
   "cell_type": "markdown",
   "metadata": {},
   "source": [
    "# nettoyage de données"
   ]
  },
  {
   "cell_type": "code",
   "execution_count": 25,
   "metadata": {},
   "outputs": [],
   "source": [
    "df = df.dropna(subset=['modele'])"
   ]
  },
  {
   "cell_type": "code",
   "execution_count": null,
   "metadata": {},
   "outputs": [
    {
     "data": {
      "application/vnd.jupyter.widget-view+json": {
       "model_id": "33b9cd12db054c149562311bbca19f13",
       "version_major": 2,
       "version_minor": 0
      },
      "text/plain": [
       "Summarize dataset:   0%|          | 0/5 [00:00<?, ?it/s]"
      ]
     },
     "metadata": {},
     "output_type": "display_data"
    },
    {
     "data": {
      "application/vnd.jupyter.widget-view+json": {
       "model_id": "a040b9e6312946b1ab3a820dc3a09c32",
       "version_major": 2,
       "version_minor": 0
      },
      "text/plain": [
       "Generate report structure:   0%|          | 0/1 [00:00<?, ?it/s]"
      ]
     },
     "metadata": {},
     "output_type": "display_data"
    },
    {
     "data": {
      "application/vnd.jupyter.widget-view+json": {
       "model_id": "e913b0224a954b0f8325cc48f7266d6e",
       "version_major": 2,
       "version_minor": 0
      },
      "text/plain": [
       "Render HTML:   0%|          | 0/1 [00:00<?, ?it/s]"
      ]
     },
     "metadata": {},
     "output_type": "display_data"
    },
    {
     "data": {
      "application/vnd.jupyter.widget-view+json": {
       "model_id": "17c0f48999fd4c54bfbfda56745af927",
       "version_major": 2,
       "version_minor": 0
      },
      "text/plain": [
       "Export report to file:   0%|          | 0/1 [00:00<?, ?it/s]"
      ]
     },
     "metadata": {},
     "output_type": "display_data"
    }
   ],
   "source": [
    "profile=ProfileReport(df, title=\"vignerons\")\n",
    "profile.to_file('ici.html')"
   ]
  },
  {
   "cell_type": "code",
   "execution_count": null,
   "metadata": {},
   "outputs": [
    {
     "name": "stdout",
     "output_type": "stream",
     "text": [
      "Score du modèle Lasso :  0.6989412407181168\n"
     ]
    }
   ],
   "source": [
    "y = df['prix']\n",
    "X = df[[\"longueur_voiture\",\"largeur_voiture\",\"empattement\",\"nombre_cylindres\",\"moteur_cc3\",\"chevaux\",\"consommation_ville\",\"consommation_autoroute\",\"tour_moteur\"]]\n",
    "\n",
    "# Séparer les données en ensembles d'entraînement et de test\n",
    "X_train, X_test, y_train, y_test = train_test_split(X, y, train_size=0.8, random_state=42)\n",
    "\n",
    "# Créer un objet de modèle Lasso et l'entraîner sur les données d'entraînement\n",
    "lasso_model = Lasso(alpha=0.1)\n",
    "trained_model = lasso_model.fit(X_train, y_train)\n",
    "\n",
    "# Évaluer les performances du modèle sur les données de test\n",
    "score = trained_model.score(X_test, y_test)\n",
    "print(\"Score du modèle Lasso : \", score)\n",
    "\n",
    "# Prédire les valeurs de prix à partir des données X\n",
    "predictions = trained_model.predict(X)\n"
   ]
  },
  {
   "cell_type": "code",
   "execution_count": null,
   "metadata": {},
   "outputs": [
    {
     "name": "stdout",
     "output_type": "stream",
     "text": [
      "Score du modèle Ridge :  0.7013881649538309\n"
     ]
    }
   ],
   "source": [
    "\n",
    "# Sélectionner les colonnes à utiliser dans le modèle\n",
    "y = df['prix']\n",
    "X = df[[\"longueur_voiture\",\"largeur_voiture\",\"empattement\",\"nombre_cylindres\",\"moteur_cc3\",\"chevaux\",\"consommation_ville\",\"consommation_autoroute\"]]\n",
    "\n",
    "# Séparer les données en ensembles d'entraînement et de test\n",
    "X_train, X_test, y_train, y_test = train_test_split(X, y, train_size=0.8, random_state=42)\n",
    "\n",
    "# Créer un objet de modèle Ridge et l'entraîner sur les données d'entraînement\n",
    "ridge_model = Ridge(alpha=0.1)\n",
    "trained_model = ridge_model.fit(X_train, y_train)\n",
    "\n",
    "# Évaluer les performances du modèle sur les données de test\n",
    "score = trained_model.score(X_test, y_test)\n",
    "print(\"Score du modèle Ridge : \", score)\n",
    "\n",
    "# Prédire les valeurs de prix à partir des données X\n",
    "predictions = trained_model.predict(X)"
   ]
  },
  {
   "cell_type": "code",
   "execution_count": null,
   "metadata": {},
   "outputs": [
    {
     "name": "stderr",
     "output_type": "stream",
     "text": [
      "/home/apprenant/miniconda3/envs/sklearn-env/lib/python3.11/site-packages/sklearn/preprocessing/_encoders.py:868: FutureWarning: `sparse` was renamed to `sparse_output` in version 1.2 and will be removed in 1.4. `sparse_output` is ignored unless you leave `sparse` to its default value.\n",
      "  warnings.warn(\n"
     ]
    },
    {
     "ename": "AttributeError",
     "evalue": "'numpy.ndarray' object has no attribute 'fit_transform'",
     "output_type": "error",
     "traceback": [
      "\u001b[0;31m---------------------------------------------------------------------------\u001b[0m",
      "\u001b[0;31mAttributeError\u001b[0m                            Traceback (most recent call last)",
      "Cell \u001b[0;32mIn[54], line 10\u001b[0m\n\u001b[1;32m      8\u001b[0m \u001b[39m# Appliquer OneHotEncoder sur les variables catégorielles\u001b[39;00m\n\u001b[1;32m      9\u001b[0m encoder \u001b[39m=\u001b[39m OneHotEncoder(handle_unknown\u001b[39m=\u001b[39m\u001b[39m'\u001b[39m\u001b[39mignore\u001b[39m\u001b[39m'\u001b[39m, sparse\u001b[39m=\u001b[39m\u001b[39mFalse\u001b[39;00m)\u001b[39m.\u001b[39mfit_transform(X_num)\n\u001b[0;32m---> 10\u001b[0m X_cat_encoded \u001b[39m=\u001b[39m encoder\u001b[39m.\u001b[39;49mfit_transform(X_cat)\n\u001b[1;32m     12\u001b[0m \u001b[39m# Concaténer les variables numériques et binaires pour obtenir les données finales\u001b[39;00m\n\u001b[1;32m     13\u001b[0m \u001b[39mimport\u001b[39;00m \u001b[39mnumpy\u001b[39;00m \u001b[39mas\u001b[39;00m \u001b[39mnp\u001b[39;00m\n",
      "\u001b[0;31mAttributeError\u001b[0m: 'numpy.ndarray' object has no attribute 'fit_transform'"
     ]
    }
   ],
   "source": [
    "from sklearn.preprocessing import OneHotEncoder\n",
    "\n",
    "# Sélectionner les colonnes à utiliser dans le modèle\n",
    "y = df['prix']\n",
    "X_cat = df[[\"marque\", \"modele\"]]\n",
    "X_num= df[[\"longueur_voiture\",\"largeur_voiture\",\"empattement\",\"nombre_cylindres\",\"moteur_cc3\",\"chevaux\",\"consommation_ville\",\"consommation_autoroute\"]]\n",
    "\n",
    "# Appliquer OneHotEncoder sur les variables catégorielles\n",
    "encoder = OneHotEncoder(handle_unknown='ignore', sparse=False)\n",
    "X_cat_encoded = encoder.fit_transform(X_cat)\n",
    "\n",
    "# Concaténer les variables numériques et binaires pour obtenir les données finales\n",
    "import numpy as np\n",
    "X = np.concatenate((X_num, X_cat_encoded), axis=1)\n",
    "\n",
    "# Séparer les données en ensembles d'entraînement et de test\n",
    "X_train, X_test, y_train, y_test = train_test_split(X, y, train_size=0.8, random_state=42)\n",
    "\n",
    "# Créer un objet de modèle Ridge et l'entraîner sur les données d'entraînement\n",
    "ridge_model = Ridge(alpha=0.1)\n",
    "trained_model = ridge_model.fit(X_train, y_train)\n",
    "\n",
    "# Évaluer les performances du modèle sur les données de test\n",
    "score = trained_model.score(X_test, y_test)\n",
    "print(\"Score du modèle Ridge avec OneHotEncoder : \", score)\n",
    "\n",
    "# Prédire les valeurs de prix à partir des données X\n",
    "predictions = trained_model.predict(X)"
   ]
  },
  {
   "cell_type": "code",
   "execution_count": null,
   "metadata": {},
   "outputs": [
    {
     "data": {
      "text/plain": [
       "Index(['car_ID', 'etat_de_route', 'carburant', 'turbo', 'nombre_portes',\n",
       "       'type_vehicule', 'roues_motrices', 'emplacement_moteur', 'empattement',\n",
       "       'longueur_voiture', 'largeur_voiture', 'hauteur_voiture',\n",
       "       'poids_vehicule', 'type_moteur', 'nombre_cylindres', 'moteur_cc3',\n",
       "       'systeme_carburant', 'taux_alésage', 'course', 'taux_compression',\n",
       "       'chevaux', 'tour_moteur', 'consommation_ville',\n",
       "       'consommation_autoroute', 'prix', 'marque', 'modele'],\n",
       "      dtype='object')"
      ]
     },
     "execution_count": 54,
     "metadata": {},
     "output_type": "execute_result"
    }
   ],
   "source": [
    "df.columns"
   ]
  },
  {
   "cell_type": "code",
   "execution_count": null,
   "metadata": {},
   "outputs": [
    {
     "name": "stderr",
     "output_type": "stream",
     "text": [
      "/home/apprenant/miniconda3/envs/sklearn-env/lib/python3.11/site-packages/sklearn/preprocessing/_encoders.py:868: FutureWarning: `sparse` was renamed to `sparse_output` in version 1.2 and will be removed in 1.4. `sparse_output` is ignored unless you leave `sparse` to its default value.\n",
      "  warnings.warn(\n"
     ]
    },
    {
     "ename": "ValueError",
     "evalue": "\nAll the 20 fits failed.\nIt is very likely that your model is misconfigured.\nYou can try to debug the error by setting error_score='raise'.\n\nBelow are more details about the failures:\n--------------------------------------------------------------------------------\n20 fits failed with the following error:\nTraceback (most recent call last):\n  File \"/home/apprenant/miniconda3/envs/sklearn-env/lib/python3.11/site-packages/sklearn/model_selection/_validation.py\", line 686, in _fit_and_score\n    estimator.fit(X_train, y_train, **fit_params)\n  File \"/home/apprenant/miniconda3/envs/sklearn-env/lib/python3.11/site-packages/sklearn/linear_model/_ridge.py\", line 1126, in fit\n    X, y = self._validate_data(\n           ^^^^^^^^^^^^^^^^^^^^\n  File \"/home/apprenant/miniconda3/envs/sklearn-env/lib/python3.11/site-packages/sklearn/base.py\", line 584, in _validate_data\n    X, y = check_X_y(X, y, **check_params)\n           ^^^^^^^^^^^^^^^^^^^^^^^^^^^^^^^\n  File \"/home/apprenant/miniconda3/envs/sklearn-env/lib/python3.11/site-packages/sklearn/utils/validation.py\", line 1106, in check_X_y\n    X = check_array(\n        ^^^^^^^^^^^^\n  File \"/home/apprenant/miniconda3/envs/sklearn-env/lib/python3.11/site-packages/sklearn/utils/validation.py\", line 879, in check_array\n    array = _asarray_with_order(array, order=order, dtype=dtype, xp=xp)\n            ^^^^^^^^^^^^^^^^^^^^^^^^^^^^^^^^^^^^^^^^^^^^^^^^^^^^^^^^^^^\n  File \"/home/apprenant/miniconda3/envs/sklearn-env/lib/python3.11/site-packages/sklearn/utils/_array_api.py\", line 185, in _asarray_with_order\n    array = numpy.asarray(array, order=order, dtype=dtype)\n            ^^^^^^^^^^^^^^^^^^^^^^^^^^^^^^^^^^^^^^^^^^^^^^\nValueError: could not convert string to float: 'gas'\n",
     "output_type": "error",
     "traceback": [
      "\u001b[0;31m---------------------------------------------------------------------------\u001b[0m",
      "\u001b[0;31mValueError\u001b[0m                                Traceback (most recent call last)",
      "Cell \u001b[0;32mIn[57], line 32\u001b[0m\n\u001b[1;32m     29\u001b[0m grid_search \u001b[39m=\u001b[39m GridSearchCV(estimator\u001b[39m=\u001b[39mridge_model, param_grid\u001b[39m=\u001b[39mparam_grid, cv\u001b[39m=\u001b[39m\u001b[39m5\u001b[39m)\n\u001b[1;32m     31\u001b[0m \u001b[39m# Entraîner le modèle sur les données d'entraînement en utilisant la recherche de grille\u001b[39;00m\n\u001b[0;32m---> 32\u001b[0m trained_model \u001b[39m=\u001b[39m grid_search\u001b[39m.\u001b[39;49mfit(X_train, y_train)\n\u001b[1;32m     34\u001b[0m \u001b[39m# Afficher les meilleures valeurs d'hyperparamètres trouvées\u001b[39;00m\n\u001b[1;32m     35\u001b[0m \u001b[39mprint\u001b[39m(\u001b[39m\"\u001b[39m\u001b[39mMeilleures valeurs d\u001b[39m\u001b[39m'\u001b[39m\u001b[39mhyperparamètres : \u001b[39m\u001b[39m\"\u001b[39m, trained_model\u001b[39m.\u001b[39mbest_params_)\n",
      "File \u001b[0;32m~/miniconda3/envs/sklearn-env/lib/python3.11/site-packages/sklearn/model_selection/_search.py:874\u001b[0m, in \u001b[0;36mBaseSearchCV.fit\u001b[0;34m(self, X, y, groups, **fit_params)\u001b[0m\n\u001b[1;32m    868\u001b[0m     results \u001b[39m=\u001b[39m \u001b[39mself\u001b[39m\u001b[39m.\u001b[39m_format_results(\n\u001b[1;32m    869\u001b[0m         all_candidate_params, n_splits, all_out, all_more_results\n\u001b[1;32m    870\u001b[0m     )\n\u001b[1;32m    872\u001b[0m     \u001b[39mreturn\u001b[39;00m results\n\u001b[0;32m--> 874\u001b[0m \u001b[39mself\u001b[39;49m\u001b[39m.\u001b[39;49m_run_search(evaluate_candidates)\n\u001b[1;32m    876\u001b[0m \u001b[39m# multimetric is determined here because in the case of a callable\u001b[39;00m\n\u001b[1;32m    877\u001b[0m \u001b[39m# self.scoring the return type is only known after calling\u001b[39;00m\n\u001b[1;32m    878\u001b[0m first_test_score \u001b[39m=\u001b[39m all_out[\u001b[39m0\u001b[39m][\u001b[39m\"\u001b[39m\u001b[39mtest_scores\u001b[39m\u001b[39m\"\u001b[39m]\n",
      "File \u001b[0;32m~/miniconda3/envs/sklearn-env/lib/python3.11/site-packages/sklearn/model_selection/_search.py:1388\u001b[0m, in \u001b[0;36mGridSearchCV._run_search\u001b[0;34m(self, evaluate_candidates)\u001b[0m\n\u001b[1;32m   1386\u001b[0m \u001b[39mdef\u001b[39;00m \u001b[39m_run_search\u001b[39m(\u001b[39mself\u001b[39m, evaluate_candidates):\n\u001b[1;32m   1387\u001b[0m \u001b[39m    \u001b[39m\u001b[39m\"\"\"Search all candidates in param_grid\"\"\"\u001b[39;00m\n\u001b[0;32m-> 1388\u001b[0m     evaluate_candidates(ParameterGrid(\u001b[39mself\u001b[39;49m\u001b[39m.\u001b[39;49mparam_grid))\n",
      "File \u001b[0;32m~/miniconda3/envs/sklearn-env/lib/python3.11/site-packages/sklearn/model_selection/_search.py:851\u001b[0m, in \u001b[0;36mBaseSearchCV.fit.<locals>.evaluate_candidates\u001b[0;34m(candidate_params, cv, more_results)\u001b[0m\n\u001b[1;32m    844\u001b[0m \u001b[39melif\u001b[39;00m \u001b[39mlen\u001b[39m(out) \u001b[39m!=\u001b[39m n_candidates \u001b[39m*\u001b[39m n_splits:\n\u001b[1;32m    845\u001b[0m     \u001b[39mraise\u001b[39;00m \u001b[39mValueError\u001b[39;00m(\n\u001b[1;32m    846\u001b[0m         \u001b[39m\"\u001b[39m\u001b[39mcv.split and cv.get_n_splits returned \u001b[39m\u001b[39m\"\u001b[39m\n\u001b[1;32m    847\u001b[0m         \u001b[39m\"\u001b[39m\u001b[39minconsistent results. Expected \u001b[39m\u001b[39m{}\u001b[39;00m\u001b[39m \u001b[39m\u001b[39m\"\u001b[39m\n\u001b[1;32m    848\u001b[0m         \u001b[39m\"\u001b[39m\u001b[39msplits, got \u001b[39m\u001b[39m{}\u001b[39;00m\u001b[39m\"\u001b[39m\u001b[39m.\u001b[39mformat(n_splits, \u001b[39mlen\u001b[39m(out) \u001b[39m/\u001b[39m\u001b[39m/\u001b[39m n_candidates)\n\u001b[1;32m    849\u001b[0m     )\n\u001b[0;32m--> 851\u001b[0m _warn_or_raise_about_fit_failures(out, \u001b[39mself\u001b[39;49m\u001b[39m.\u001b[39;49merror_score)\n\u001b[1;32m    853\u001b[0m \u001b[39m# For callable self.scoring, the return type is only know after\u001b[39;00m\n\u001b[1;32m    854\u001b[0m \u001b[39m# calling. If the return type is a dictionary, the error scores\u001b[39;00m\n\u001b[1;32m    855\u001b[0m \u001b[39m# can now be inserted with the correct key. The type checking\u001b[39;00m\n\u001b[1;32m    856\u001b[0m \u001b[39m# of out will be done in `_insert_error_scores`.\u001b[39;00m\n\u001b[1;32m    857\u001b[0m \u001b[39mif\u001b[39;00m \u001b[39mcallable\u001b[39m(\u001b[39mself\u001b[39m\u001b[39m.\u001b[39mscoring):\n",
      "File \u001b[0;32m~/miniconda3/envs/sklearn-env/lib/python3.11/site-packages/sklearn/model_selection/_validation.py:367\u001b[0m, in \u001b[0;36m_warn_or_raise_about_fit_failures\u001b[0;34m(results, error_score)\u001b[0m\n\u001b[1;32m    360\u001b[0m \u001b[39mif\u001b[39;00m num_failed_fits \u001b[39m==\u001b[39m num_fits:\n\u001b[1;32m    361\u001b[0m     all_fits_failed_message \u001b[39m=\u001b[39m (\n\u001b[1;32m    362\u001b[0m         \u001b[39mf\u001b[39m\u001b[39m\"\u001b[39m\u001b[39m\\n\u001b[39;00m\u001b[39mAll the \u001b[39m\u001b[39m{\u001b[39;00mnum_fits\u001b[39m}\u001b[39;00m\u001b[39m fits failed.\u001b[39m\u001b[39m\\n\u001b[39;00m\u001b[39m\"\u001b[39m\n\u001b[1;32m    363\u001b[0m         \u001b[39m\"\u001b[39m\u001b[39mIt is very likely that your model is misconfigured.\u001b[39m\u001b[39m\\n\u001b[39;00m\u001b[39m\"\u001b[39m\n\u001b[1;32m    364\u001b[0m         \u001b[39m\"\u001b[39m\u001b[39mYou can try to debug the error by setting error_score=\u001b[39m\u001b[39m'\u001b[39m\u001b[39mraise\u001b[39m\u001b[39m'\u001b[39m\u001b[39m.\u001b[39m\u001b[39m\\n\u001b[39;00m\u001b[39m\\n\u001b[39;00m\u001b[39m\"\u001b[39m\n\u001b[1;32m    365\u001b[0m         \u001b[39mf\u001b[39m\u001b[39m\"\u001b[39m\u001b[39mBelow are more details about the failures:\u001b[39m\u001b[39m\\n\u001b[39;00m\u001b[39m{\u001b[39;00mfit_errors_summary\u001b[39m}\u001b[39;00m\u001b[39m\"\u001b[39m\n\u001b[1;32m    366\u001b[0m     )\n\u001b[0;32m--> 367\u001b[0m     \u001b[39mraise\u001b[39;00m \u001b[39mValueError\u001b[39;00m(all_fits_failed_message)\n\u001b[1;32m    369\u001b[0m \u001b[39melse\u001b[39;00m:\n\u001b[1;32m    370\u001b[0m     some_fits_failed_message \u001b[39m=\u001b[39m (\n\u001b[1;32m    371\u001b[0m         \u001b[39mf\u001b[39m\u001b[39m\"\u001b[39m\u001b[39m\\n\u001b[39;00m\u001b[39m{\u001b[39;00mnum_failed_fits\u001b[39m}\u001b[39;00m\u001b[39m fits failed out of a total of \u001b[39m\u001b[39m{\u001b[39;00mnum_fits\u001b[39m}\u001b[39;00m\u001b[39m.\u001b[39m\u001b[39m\\n\u001b[39;00m\u001b[39m\"\u001b[39m\n\u001b[1;32m    372\u001b[0m         \u001b[39m\"\u001b[39m\u001b[39mThe score on these train-test partitions for these parameters\u001b[39m\u001b[39m\"\u001b[39m\n\u001b[0;32m   (...)\u001b[0m\n\u001b[1;32m    376\u001b[0m         \u001b[39mf\u001b[39m\u001b[39m\"\u001b[39m\u001b[39mBelow are more details about the failures:\u001b[39m\u001b[39m\\n\u001b[39;00m\u001b[39m{\u001b[39;00mfit_errors_summary\u001b[39m}\u001b[39;00m\u001b[39m\"\u001b[39m\n\u001b[1;32m    377\u001b[0m     )\n",
      "\u001b[0;31mValueError\u001b[0m: \nAll the 20 fits failed.\nIt is very likely that your model is misconfigured.\nYou can try to debug the error by setting error_score='raise'.\n\nBelow are more details about the failures:\n--------------------------------------------------------------------------------\n20 fits failed with the following error:\nTraceback (most recent call last):\n  File \"/home/apprenant/miniconda3/envs/sklearn-env/lib/python3.11/site-packages/sklearn/model_selection/_validation.py\", line 686, in _fit_and_score\n    estimator.fit(X_train, y_train, **fit_params)\n  File \"/home/apprenant/miniconda3/envs/sklearn-env/lib/python3.11/site-packages/sklearn/linear_model/_ridge.py\", line 1126, in fit\n    X, y = self._validate_data(\n           ^^^^^^^^^^^^^^^^^^^^\n  File \"/home/apprenant/miniconda3/envs/sklearn-env/lib/python3.11/site-packages/sklearn/base.py\", line 584, in _validate_data\n    X, y = check_X_y(X, y, **check_params)\n           ^^^^^^^^^^^^^^^^^^^^^^^^^^^^^^^\n  File \"/home/apprenant/miniconda3/envs/sklearn-env/lib/python3.11/site-packages/sklearn/utils/validation.py\", line 1106, in check_X_y\n    X = check_array(\n        ^^^^^^^^^^^^\n  File \"/home/apprenant/miniconda3/envs/sklearn-env/lib/python3.11/site-packages/sklearn/utils/validation.py\", line 879, in check_array\n    array = _asarray_with_order(array, order=order, dtype=dtype, xp=xp)\n            ^^^^^^^^^^^^^^^^^^^^^^^^^^^^^^^^^^^^^^^^^^^^^^^^^^^^^^^^^^^\n  File \"/home/apprenant/miniconda3/envs/sklearn-env/lib/python3.11/site-packages/sklearn/utils/_array_api.py\", line 185, in _asarray_with_order\n    array = numpy.asarray(array, order=order, dtype=dtype)\n            ^^^^^^^^^^^^^^^^^^^^^^^^^^^^^^^^^^^^^^^^^^^^^^\nValueError: could not convert string to float: 'gas'\n"
     ]
    }
   ],
   "source": [
    "y = df['prix']\n",
    "X_cat = df[[\"marque\", \"modele\"]]\n",
    "# X_num = df[[\"longueur_voiture\",\"largeur_voiture\",\"empattement\",\"nombre_cylindres\",\"moteur_cc3\",\"chevaux\",\"consommation_ville\",\"consommation_autoroute\"]]\n",
    "X_num=df[['etat_de_route', 'carburant', 'turbo', 'nombre_portes',\n",
    "       'type_vehicule', 'roues_motrices', 'emplacement_moteur', 'empattement',\n",
    "       'longueur_voiture', 'largeur_voiture', 'hauteur_voiture',\n",
    "       'poids_vehicule', 'type_moteur', 'nombre_cylindres', 'moteur_cc3',\n",
    "       'systeme_carburant', 'taux_alésage', 'course', 'taux_compression',\n",
    "       'chevaux', 'tour_moteur', 'consommation_ville',\n",
    "       'consommation_autoroute']]\n",
    "# Appliquer OneHotEncoder sur les variables catégorielles\n",
    "encoder = OneHotEncoder(handle_unknown='ignore', sparse=False)\n",
    "X_cat_encoded = encoder.fit_transform(X_cat)\n",
    "\n",
    "# Concaténer les variables numériques et binaires pour obtenir les données finales\n",
    "import numpy as np\n",
    "X = np.concatenate((X_num, X_cat_encoded), axis=1)\n",
    "\n",
    "# Séparer les données en ensembles d'entraînement et de test\n",
    "X_train, X_test, y_train, y_test = train_test_split(X, y, train_size=0.8, random_state=42)\n",
    "\n",
    "# Définir la grille de valeurs d'hyperparamètres à tester\n",
    "param_grid = {'alpha': [0.1, 1, 10, 100]}\n",
    "\n",
    "# Créer un objet de modèle Ridge\n",
    "ridge_model = Ridge()\n",
    "\n",
    "# Créer un objet GridSearchCV pour trouver les meilleures valeurs d'hyperparamètres\n",
    "grid_search = GridSearchCV(estimator=ridge_model, param_grid=param_grid, cv=5)\n",
    "\n",
    "# Entraîner le modèle sur les données d'entraînement en utilisant la recherche de grille\n",
    "trained_model = grid_search.fit(X_train, y_train)\n",
    "\n",
    "# Afficher les meilleures valeurs d'hyperparamètres trouvées\n",
    "print(\"Meilleures valeurs d'hyperparamètres : \", trained_model.best_params_)\n",
    "\n",
    "# Évaluer les performances du modèle sur les données de test\n",
    "score = trained_model.score(X_test, y_test)\n",
    "print(\"Score du modèle Ridge avec OneHotEncoder : \", score)\n",
    "\n",
    "# Prédire les valeurs de prix à partir des données X\n",
    "predictions = trained_model.predict(X)"
   ]
  },
  {
   "cell_type": "code",
   "execution_count": null,
   "metadata": {},
   "outputs": [
    {
     "ename": "ValueError",
     "evalue": "\nAll the 220 fits failed.\nIt is very likely that your model is misconfigured.\nYou can try to debug the error by setting error_score='raise'.\n\nBelow are more details about the failures:\n--------------------------------------------------------------------------------\n110 fits failed with the following error:\nTraceback (most recent call last):\n  File \"/home/apprenant/miniconda3/envs/sklearn-env/lib/python3.11/site-packages/sklearn/model_selection/_validation.py\", line 686, in _fit_and_score\n    estimator.fit(X_train, y_train, **fit_params)\n  File \"/home/apprenant/miniconda3/envs/sklearn-env/lib/python3.11/site-packages/sklearn/linear_model/_coordinate_descent.py\", line 908, in fit\n    X, y = self._validate_data(\n           ^^^^^^^^^^^^^^^^^^^^\n  File \"/home/apprenant/miniconda3/envs/sklearn-env/lib/python3.11/site-packages/sklearn/base.py\", line 584, in _validate_data\n    X, y = check_X_y(X, y, **check_params)\n           ^^^^^^^^^^^^^^^^^^^^^^^^^^^^^^^\n  File \"/home/apprenant/miniconda3/envs/sklearn-env/lib/python3.11/site-packages/sklearn/utils/validation.py\", line 1106, in check_X_y\n    X = check_array(\n        ^^^^^^^^^^^^\n  File \"/home/apprenant/miniconda3/envs/sklearn-env/lib/python3.11/site-packages/sklearn/utils/validation.py\", line 879, in check_array\n    array = _asarray_with_order(array, order=order, dtype=dtype, xp=xp)\n            ^^^^^^^^^^^^^^^^^^^^^^^^^^^^^^^^^^^^^^^^^^^^^^^^^^^^^^^^^^^\n  File \"/home/apprenant/miniconda3/envs/sklearn-env/lib/python3.11/site-packages/sklearn/utils/_array_api.py\", line 185, in _asarray_with_order\n    array = numpy.asarray(array, order=order, dtype=dtype)\n            ^^^^^^^^^^^^^^^^^^^^^^^^^^^^^^^^^^^^^^^^^^^^^^\n  File \"/home/apprenant/miniconda3/envs/sklearn-env/lib/python3.11/site-packages/pandas/core/generic.py\", line 2070, in __array__\n    return np.asarray(self._values, dtype=dtype)\n           ^^^^^^^^^^^^^^^^^^^^^^^^^^^^^^^^^^^^^\nValueError: could not convert string to float: 'isuzu'\n\n--------------------------------------------------------------------------------\n110 fits failed with the following error:\nTraceback (most recent call last):\n  File \"/home/apprenant/miniconda3/envs/sklearn-env/lib/python3.11/site-packages/sklearn/model_selection/_validation.py\", line 686, in _fit_and_score\n    estimator.fit(X_train, y_train, **fit_params)\n  File \"/home/apprenant/miniconda3/envs/sklearn-env/lib/python3.11/site-packages/sklearn/linear_model/_coordinate_descent.py\", line 908, in fit\n    X, y = self._validate_data(\n           ^^^^^^^^^^^^^^^^^^^^\n  File \"/home/apprenant/miniconda3/envs/sklearn-env/lib/python3.11/site-packages/sklearn/base.py\", line 584, in _validate_data\n    X, y = check_X_y(X, y, **check_params)\n           ^^^^^^^^^^^^^^^^^^^^^^^^^^^^^^^\n  File \"/home/apprenant/miniconda3/envs/sklearn-env/lib/python3.11/site-packages/sklearn/utils/validation.py\", line 1106, in check_X_y\n    X = check_array(\n        ^^^^^^^^^^^^\n  File \"/home/apprenant/miniconda3/envs/sklearn-env/lib/python3.11/site-packages/sklearn/utils/validation.py\", line 879, in check_array\n    array = _asarray_with_order(array, order=order, dtype=dtype, xp=xp)\n            ^^^^^^^^^^^^^^^^^^^^^^^^^^^^^^^^^^^^^^^^^^^^^^^^^^^^^^^^^^^\n  File \"/home/apprenant/miniconda3/envs/sklearn-env/lib/python3.11/site-packages/sklearn/utils/_array_api.py\", line 185, in _asarray_with_order\n    array = numpy.asarray(array, order=order, dtype=dtype)\n            ^^^^^^^^^^^^^^^^^^^^^^^^^^^^^^^^^^^^^^^^^^^^^^\n  File \"/home/apprenant/miniconda3/envs/sklearn-env/lib/python3.11/site-packages/pandas/core/generic.py\", line 2070, in __array__\n    return np.asarray(self._values, dtype=dtype)\n           ^^^^^^^^^^^^^^^^^^^^^^^^^^^^^^^^^^^^^\nValueError: could not convert string to float: 'mazda'\n",
     "output_type": "error",
     "traceback": [
      "\u001b[0;31m---------------------------------------------------------------------------\u001b[0m",
      "\u001b[0;31mValueError\u001b[0m                                Traceback (most recent call last)",
      "Cell \u001b[0;32mIn[109], line 78\u001b[0m\n\u001b[1;32m     75\u001b[0m knn \u001b[39m=\u001b[39m Lasso() \n\u001b[1;32m     76\u001b[0m grid \u001b[39m=\u001b[39m GridSearchCV(knn, param_grid, cv\u001b[39m=\u001b[39m\u001b[39m2\u001b[39m, scoring\u001b[39m=\u001b[39m\u001b[39m'\u001b[39m\u001b[39mr2\u001b[39m\u001b[39m'\u001b[39m) \n\u001b[0;32m---> 78\u001b[0m grid\u001b[39m.\u001b[39;49mfit (X_train, y_train) \n\u001b[1;32m     80\u001b[0m grid\u001b[39m.\u001b[39mbest_score_\n\u001b[1;32m     81\u001b[0m grid\u001b[39m.\u001b[39mbest_params_\n",
      "File \u001b[0;32m~/miniconda3/envs/sklearn-env/lib/python3.11/site-packages/sklearn/model_selection/_search.py:874\u001b[0m, in \u001b[0;36mBaseSearchCV.fit\u001b[0;34m(self, X, y, groups, **fit_params)\u001b[0m\n\u001b[1;32m    868\u001b[0m     results \u001b[39m=\u001b[39m \u001b[39mself\u001b[39m\u001b[39m.\u001b[39m_format_results(\n\u001b[1;32m    869\u001b[0m         all_candidate_params, n_splits, all_out, all_more_results\n\u001b[1;32m    870\u001b[0m     )\n\u001b[1;32m    872\u001b[0m     \u001b[39mreturn\u001b[39;00m results\n\u001b[0;32m--> 874\u001b[0m \u001b[39mself\u001b[39;49m\u001b[39m.\u001b[39;49m_run_search(evaluate_candidates)\n\u001b[1;32m    876\u001b[0m \u001b[39m# multimetric is determined here because in the case of a callable\u001b[39;00m\n\u001b[1;32m    877\u001b[0m \u001b[39m# self.scoring the return type is only known after calling\u001b[39;00m\n\u001b[1;32m    878\u001b[0m first_test_score \u001b[39m=\u001b[39m all_out[\u001b[39m0\u001b[39m][\u001b[39m\"\u001b[39m\u001b[39mtest_scores\u001b[39m\u001b[39m\"\u001b[39m]\n",
      "File \u001b[0;32m~/miniconda3/envs/sklearn-env/lib/python3.11/site-packages/sklearn/model_selection/_search.py:1388\u001b[0m, in \u001b[0;36mGridSearchCV._run_search\u001b[0;34m(self, evaluate_candidates)\u001b[0m\n\u001b[1;32m   1386\u001b[0m \u001b[39mdef\u001b[39;00m \u001b[39m_run_search\u001b[39m(\u001b[39mself\u001b[39m, evaluate_candidates):\n\u001b[1;32m   1387\u001b[0m \u001b[39m    \u001b[39m\u001b[39m\"\"\"Search all candidates in param_grid\"\"\"\u001b[39;00m\n\u001b[0;32m-> 1388\u001b[0m     evaluate_candidates(ParameterGrid(\u001b[39mself\u001b[39;49m\u001b[39m.\u001b[39;49mparam_grid))\n",
      "File \u001b[0;32m~/miniconda3/envs/sklearn-env/lib/python3.11/site-packages/sklearn/model_selection/_search.py:851\u001b[0m, in \u001b[0;36mBaseSearchCV.fit.<locals>.evaluate_candidates\u001b[0;34m(candidate_params, cv, more_results)\u001b[0m\n\u001b[1;32m    844\u001b[0m \u001b[39melif\u001b[39;00m \u001b[39mlen\u001b[39m(out) \u001b[39m!=\u001b[39m n_candidates \u001b[39m*\u001b[39m n_splits:\n\u001b[1;32m    845\u001b[0m     \u001b[39mraise\u001b[39;00m \u001b[39mValueError\u001b[39;00m(\n\u001b[1;32m    846\u001b[0m         \u001b[39m\"\u001b[39m\u001b[39mcv.split and cv.get_n_splits returned \u001b[39m\u001b[39m\"\u001b[39m\n\u001b[1;32m    847\u001b[0m         \u001b[39m\"\u001b[39m\u001b[39minconsistent results. Expected \u001b[39m\u001b[39m{}\u001b[39;00m\u001b[39m \u001b[39m\u001b[39m\"\u001b[39m\n\u001b[1;32m    848\u001b[0m         \u001b[39m\"\u001b[39m\u001b[39msplits, got \u001b[39m\u001b[39m{}\u001b[39;00m\u001b[39m\"\u001b[39m\u001b[39m.\u001b[39mformat(n_splits, \u001b[39mlen\u001b[39m(out) \u001b[39m/\u001b[39m\u001b[39m/\u001b[39m n_candidates)\n\u001b[1;32m    849\u001b[0m     )\n\u001b[0;32m--> 851\u001b[0m _warn_or_raise_about_fit_failures(out, \u001b[39mself\u001b[39;49m\u001b[39m.\u001b[39;49merror_score)\n\u001b[1;32m    853\u001b[0m \u001b[39m# For callable self.scoring, the return type is only know after\u001b[39;00m\n\u001b[1;32m    854\u001b[0m \u001b[39m# calling. If the return type is a dictionary, the error scores\u001b[39;00m\n\u001b[1;32m    855\u001b[0m \u001b[39m# can now be inserted with the correct key. The type checking\u001b[39;00m\n\u001b[1;32m    856\u001b[0m \u001b[39m# of out will be done in `_insert_error_scores`.\u001b[39;00m\n\u001b[1;32m    857\u001b[0m \u001b[39mif\u001b[39;00m \u001b[39mcallable\u001b[39m(\u001b[39mself\u001b[39m\u001b[39m.\u001b[39mscoring):\n",
      "File \u001b[0;32m~/miniconda3/envs/sklearn-env/lib/python3.11/site-packages/sklearn/model_selection/_validation.py:367\u001b[0m, in \u001b[0;36m_warn_or_raise_about_fit_failures\u001b[0;34m(results, error_score)\u001b[0m\n\u001b[1;32m    360\u001b[0m \u001b[39mif\u001b[39;00m num_failed_fits \u001b[39m==\u001b[39m num_fits:\n\u001b[1;32m    361\u001b[0m     all_fits_failed_message \u001b[39m=\u001b[39m (\n\u001b[1;32m    362\u001b[0m         \u001b[39mf\u001b[39m\u001b[39m\"\u001b[39m\u001b[39m\\n\u001b[39;00m\u001b[39mAll the \u001b[39m\u001b[39m{\u001b[39;00mnum_fits\u001b[39m}\u001b[39;00m\u001b[39m fits failed.\u001b[39m\u001b[39m\\n\u001b[39;00m\u001b[39m\"\u001b[39m\n\u001b[1;32m    363\u001b[0m         \u001b[39m\"\u001b[39m\u001b[39mIt is very likely that your model is misconfigured.\u001b[39m\u001b[39m\\n\u001b[39;00m\u001b[39m\"\u001b[39m\n\u001b[1;32m    364\u001b[0m         \u001b[39m\"\u001b[39m\u001b[39mYou can try to debug the error by setting error_score=\u001b[39m\u001b[39m'\u001b[39m\u001b[39mraise\u001b[39m\u001b[39m'\u001b[39m\u001b[39m.\u001b[39m\u001b[39m\\n\u001b[39;00m\u001b[39m\\n\u001b[39;00m\u001b[39m\"\u001b[39m\n\u001b[1;32m    365\u001b[0m         \u001b[39mf\u001b[39m\u001b[39m\"\u001b[39m\u001b[39mBelow are more details about the failures:\u001b[39m\u001b[39m\\n\u001b[39;00m\u001b[39m{\u001b[39;00mfit_errors_summary\u001b[39m}\u001b[39;00m\u001b[39m\"\u001b[39m\n\u001b[1;32m    366\u001b[0m     )\n\u001b[0;32m--> 367\u001b[0m     \u001b[39mraise\u001b[39;00m \u001b[39mValueError\u001b[39;00m(all_fits_failed_message)\n\u001b[1;32m    369\u001b[0m \u001b[39melse\u001b[39;00m:\n\u001b[1;32m    370\u001b[0m     some_fits_failed_message \u001b[39m=\u001b[39m (\n\u001b[1;32m    371\u001b[0m         \u001b[39mf\u001b[39m\u001b[39m\"\u001b[39m\u001b[39m\\n\u001b[39;00m\u001b[39m{\u001b[39;00mnum_failed_fits\u001b[39m}\u001b[39;00m\u001b[39m fits failed out of a total of \u001b[39m\u001b[39m{\u001b[39;00mnum_fits\u001b[39m}\u001b[39;00m\u001b[39m.\u001b[39m\u001b[39m\\n\u001b[39;00m\u001b[39m\"\u001b[39m\n\u001b[1;32m    372\u001b[0m         \u001b[39m\"\u001b[39m\u001b[39mThe score on these train-test partitions for these parameters\u001b[39m\u001b[39m\"\u001b[39m\n\u001b[0;32m   (...)\u001b[0m\n\u001b[1;32m    376\u001b[0m         \u001b[39mf\u001b[39m\u001b[39m\"\u001b[39m\u001b[39mBelow are more details about the failures:\u001b[39m\u001b[39m\\n\u001b[39;00m\u001b[39m{\u001b[39;00mfit_errors_summary\u001b[39m}\u001b[39;00m\u001b[39m\"\u001b[39m\n\u001b[1;32m    377\u001b[0m     )\n",
      "\u001b[0;31mValueError\u001b[0m: \nAll the 220 fits failed.\nIt is very likely that your model is misconfigured.\nYou can try to debug the error by setting error_score='raise'.\n\nBelow are more details about the failures:\n--------------------------------------------------------------------------------\n110 fits failed with the following error:\nTraceback (most recent call last):\n  File \"/home/apprenant/miniconda3/envs/sklearn-env/lib/python3.11/site-packages/sklearn/model_selection/_validation.py\", line 686, in _fit_and_score\n    estimator.fit(X_train, y_train, **fit_params)\n  File \"/home/apprenant/miniconda3/envs/sklearn-env/lib/python3.11/site-packages/sklearn/linear_model/_coordinate_descent.py\", line 908, in fit\n    X, y = self._validate_data(\n           ^^^^^^^^^^^^^^^^^^^^\n  File \"/home/apprenant/miniconda3/envs/sklearn-env/lib/python3.11/site-packages/sklearn/base.py\", line 584, in _validate_data\n    X, y = check_X_y(X, y, **check_params)\n           ^^^^^^^^^^^^^^^^^^^^^^^^^^^^^^^\n  File \"/home/apprenant/miniconda3/envs/sklearn-env/lib/python3.11/site-packages/sklearn/utils/validation.py\", line 1106, in check_X_y\n    X = check_array(\n        ^^^^^^^^^^^^\n  File \"/home/apprenant/miniconda3/envs/sklearn-env/lib/python3.11/site-packages/sklearn/utils/validation.py\", line 879, in check_array\n    array = _asarray_with_order(array, order=order, dtype=dtype, xp=xp)\n            ^^^^^^^^^^^^^^^^^^^^^^^^^^^^^^^^^^^^^^^^^^^^^^^^^^^^^^^^^^^\n  File \"/home/apprenant/miniconda3/envs/sklearn-env/lib/python3.11/site-packages/sklearn/utils/_array_api.py\", line 185, in _asarray_with_order\n    array = numpy.asarray(array, order=order, dtype=dtype)\n            ^^^^^^^^^^^^^^^^^^^^^^^^^^^^^^^^^^^^^^^^^^^^^^\n  File \"/home/apprenant/miniconda3/envs/sklearn-env/lib/python3.11/site-packages/pandas/core/generic.py\", line 2070, in __array__\n    return np.asarray(self._values, dtype=dtype)\n           ^^^^^^^^^^^^^^^^^^^^^^^^^^^^^^^^^^^^^\nValueError: could not convert string to float: 'isuzu'\n\n--------------------------------------------------------------------------------\n110 fits failed with the following error:\nTraceback (most recent call last):\n  File \"/home/apprenant/miniconda3/envs/sklearn-env/lib/python3.11/site-packages/sklearn/model_selection/_validation.py\", line 686, in _fit_and_score\n    estimator.fit(X_train, y_train, **fit_params)\n  File \"/home/apprenant/miniconda3/envs/sklearn-env/lib/python3.11/site-packages/sklearn/linear_model/_coordinate_descent.py\", line 908, in fit\n    X, y = self._validate_data(\n           ^^^^^^^^^^^^^^^^^^^^\n  File \"/home/apprenant/miniconda3/envs/sklearn-env/lib/python3.11/site-packages/sklearn/base.py\", line 584, in _validate_data\n    X, y = check_X_y(X, y, **check_params)\n           ^^^^^^^^^^^^^^^^^^^^^^^^^^^^^^^\n  File \"/home/apprenant/miniconda3/envs/sklearn-env/lib/python3.11/site-packages/sklearn/utils/validation.py\", line 1106, in check_X_y\n    X = check_array(\n        ^^^^^^^^^^^^\n  File \"/home/apprenant/miniconda3/envs/sklearn-env/lib/python3.11/site-packages/sklearn/utils/validation.py\", line 879, in check_array\n    array = _asarray_with_order(array, order=order, dtype=dtype, xp=xp)\n            ^^^^^^^^^^^^^^^^^^^^^^^^^^^^^^^^^^^^^^^^^^^^^^^^^^^^^^^^^^^\n  File \"/home/apprenant/miniconda3/envs/sklearn-env/lib/python3.11/site-packages/sklearn/utils/_array_api.py\", line 185, in _asarray_with_order\n    array = numpy.asarray(array, order=order, dtype=dtype)\n            ^^^^^^^^^^^^^^^^^^^^^^^^^^^^^^^^^^^^^^^^^^^^^^\n  File \"/home/apprenant/miniconda3/envs/sklearn-env/lib/python3.11/site-packages/pandas/core/generic.py\", line 2070, in __array__\n    return np.asarray(self._values, dtype=dtype)\n           ^^^^^^^^^^^^^^^^^^^^^^^^^^^^^^^^^^^^^\nValueError: could not convert string to float: 'mazda'\n"
     ]
    }
   ],
   "source": [
    "from sklearn.model_selection import GridSearchCV\n",
    "from sklearn.preprocessing import MinMaxScaler\n",
    "from sklearn.compose import ColumnTransformer  \n",
    "from sklearn.preprocessing import OneHotEncoder\n",
    "\n",
    "from sklearn.pipeline import Pipeline\n",
    "# Sélectionner la variable cible et les variables explicatives\n",
    "\n",
    "\n",
    "Y = df['prix']\n",
    "X=df[['etat_de_route', 'nombre_portes',\n",
    "        'empattement',\n",
    "       'longueur_voiture', 'largeur_voiture', 'hauteur_voiture',\n",
    "       'poids_vehicule',  'nombre_cylindres', 'moteur_cc3',\n",
    "        'taux_alésage', 'course', 'taux_compression',\n",
    "       'chevaux', 'tour_moteur', 'consommation_ville',\n",
    "       'consommation_autoroute',\"marque\", \"modele\", 'carburant', 'turbo','type_vehicule', 'roues_motrices', 'emplacement_moteur','type_moteur','systeme_carburant']]\n",
    "\n",
    "\n",
    "X_train, X_test, y_train, y_test = train_test_split(X, Y, train_size=0.8, random_state=42)\n",
    "\n",
    "\n",
    "\n",
    "X_num = df[['etat_de_route', 'nombre_portes','empattement', 'longueur_voiture', 'largeur_voiture', 'hauteur_voiture','poids_vehicule',  'nombre_cylindres', 'moteur_cc3',\n",
    "'taux_alésage', 'course', 'taux_compression','chevaux', 'tour_moteur', 'consommation_ville','consommation_autoroute']]\n",
    "\n",
    "# Sélectionner les colonnes catégorielles\n",
    "X_cat = df[[\"marque\", \"modele\", 'carburant', 'turbo','type_vehicule', 'roues_motrices', 'emplacement_moteur','type_moteur','systeme_carburant']]\n",
    "\n",
    "# Encoder les variables catégorielles en variables binaires\n",
    "ttt_cat = OneHotEncoder(handle_unknown='ignore', sparse=False)#.fit_transform(X_cat)\n",
    "ttt_num=MinMaxScaler()#.fit_transform(X_num)\n",
    "\n",
    "\n",
    "\n",
    "preprocessor = ColumnTransformer(                   \n",
    "    transformers=[ \n",
    "        ('num', ttt_num, X_num.columns),\n",
    "        ('cat', ttt_cat, X_cat.columns)        \n",
    "    ])\n",
    "\n",
    "ridge = Lasso()\n",
    "\n",
    "pipe = Pipeline([\n",
    "     ('prep', preprocessor),     \n",
    "     ('knn', ridge)              \n",
    "])\n",
    "\n",
    "# trained_pipe = pipe.fit(X_train,y_train)\n",
    "\n",
    "# # prediction sur X_test\n",
    "# trained_pipe.predict(X_test)\n",
    "\n",
    "# # scoring sur X_test\n",
    "# trained_pipe.score(X_test,y_test)\n",
    "\n",
    "\n",
    "\n",
    "\n",
    "\n",
    "\n",
    "\n",
    "\n",
    "\n",
    "\n",
    "\n",
    "\n",
    "\n",
    "\n",
    "liste = np.arange(1, 12, 0.1).tolist()\n",
    "#quelle_facon = ['uniform','distance']       #   uniform: attribue un poids égal à tous les voisins     # distance: pondére chak voisin en fonction de sa distance \n",
    "\n",
    "param_grid = dict(alpha=liste)\n",
    "\n",
    "knn = Lasso() \n",
    "grid = GridSearchCV(knn, param_grid, cv=2, scoring='r2') \n",
    "\n",
    "grid.fit (X_train, y_train) \n",
    "\n",
    "grid.best_score_\n",
    "grid.best_params_\n",
    "\n",
    "\n",
    "# Concaténer les variables numériques et binaires pour obtenir les données finales\n",
    "# X = np.concatenate((X_num, X_cat_encode), axis=1)\n",
    "\n",
    "# # Séparer les données en ensembles d'entraînement et de test\n",
    "\n",
    "\n",
    "# # Définir la grille de valeurs d'hyperparamètres à tester\n",
    "# param_grid = {'alpha': [3,4,2,4,5,6,7,8,9, 10, 100]}\n",
    "\n",
    "# # Créer un objet de modèle Ridge\n",
    "# ridge_model = Ridge()\n",
    "\n",
    "# # Créer un objet GridSearchCV pour trouver les meilleures valeurs d'hyperparamètres\n",
    "# grid_search = GridSearchCV(estimator=ridge_model, param_grid=param_grid, cv=5)\n",
    "\n",
    "# # Entraîner le modèle sur les données d'entraînement en utilisant la recherche de grille\n",
    "# trained_model = grid_search.fit(X_train, y_train)\n",
    "\n",
    "# # Afficher les meilleures valeurs d'hyperparamètres trouvées\n",
    "# print(\"Meilleures valeurs d'hyperparamètres : \", trained_model.best_params_)\n",
    "# score = trained_model.score(X_test, y_test)\n",
    "# print(\"Score du modèle Ridge avec OneHotEncoder : \", score)\n"
   ]
  },
  {
   "cell_type": "code",
   "execution_count": null,
   "metadata": {},
   "outputs": [],
   "source": [
    "numeric_transformer = Pipeline([       \n",
    "        ('imputer', SimpleImputer(strategy='median')),\n",
    "        ('min_max', MinMaxScaler()),  \n",
    "        ])\n",
    "\n",
    "categorial_var = [ \"zipcode\",\"grade\",\"waterfront\"]\n",
    "\n",
    "remaining_var=[\"date\"]\n",
    "\n",
    "from sklearn.preprocessing import OneHotEncoder\n",
    "categorical_transformer = OneHotEncoder(sparse=True)   \n",
    "\n",
    "from sklearn.compose import ColumnTransformer       \n",
    "# #preprocessor = ColumnTransformer(                   \n",
    "#     transformers=[ \n",
    "#         ('num', numeric_transformer, numeric_var),\n",
    "#         ('cat', categorical_transformer, categorial_var),\n",
    "#         ('remainder':‘passthrough’)\n",
    "#     ])\n",
    "\n",
    "preprocessor = ColumnTransformer(\n",
    "    transformers=[\n",
    "        ('num', numeric_transformer, numeric_var),\n",
    "        ('cat', categorical_transformer, categorial_var),\n",
    "        # ('remainder', 'passthrough', remaining_var)\n",
    "    ])\n",
    "\n",
    "from sklearn.neighbors import KNeighborsRegressor\n",
    "knn_4 = KNeighborsRegressor(n_neighbors=7, weights=\"distance\")\n",
    "\n",
    "\n",
    "pipe = Pipeline([\n",
    "     ('prep', preprocessor),     \n",
    "     ('knn', knn_4)              \n",
    "])\n",
    "\n",
    "trained_pipe = pipe.fit(X_train,y_train)\n",
    "\n",
    "# prediction sur X_test\n",
    "trained_pipe.predict(X_test)\n",
    "\n",
    "# scoring sur X_test\n",
    "trained_pipe.score(X_test,y_test)\n"
   ]
  },
  {
   "cell_type": "code",
   "execution_count": null,
   "metadata": {},
   "outputs": [
    {
     "ename": "AttributeError",
     "evalue": "'numpy.ndarray' object has no attribute 'inverse_transform'",
     "output_type": "error",
     "traceback": [
      "\u001b[0;31m---------------------------------------------------------------------------\u001b[0m",
      "\u001b[0;31mAttributeError\u001b[0m                            Traceback (most recent call last)",
      "Cell \u001b[0;32mIn[17], line 9\u001b[0m\n\u001b[1;32m      7\u001b[0m A\u001b[39m=\u001b[39mscaler\u001b[39m.\u001b[39mfit_transform(X)\n\u001b[1;32m      8\u001b[0m scaler\u001b[39m.\u001b[39mtransform(X_bis)\n\u001b[0;32m----> 9\u001b[0m A\u001b[39m.\u001b[39;49minverse_transform\n",
      "\u001b[0;31mAttributeError\u001b[0m: 'numpy.ndarray' object has no attribute 'inverse_transform'"
     ]
    }
   ],
   "source": [
    "from sklearn.preprocessing import MinMaxScaler, StandardScaler, RobustScaler\n",
    "\n",
    "import numpy as np\n",
    "X= np.array ([[70],[80],[100], [120],[140]])\n",
    "X_bis=np.array ([[79],[180]])\n",
    "scaler=StandardScaler()\n",
    "A=scaler.fit_transform(X)\n",
    "scaler.transform(X_bis)\n"
   ]
  },
  {
   "cell_type": "code",
   "execution_count": null,
   "metadata": {},
   "outputs": [],
   "source": [
    "from sklearn.model_selection import GridSearchCV\n",
    "from sklearn.preprocessing import MinMaxScaler\n",
    "from sklearn.compose import ColumnTransformer  \n",
    "from sklearn.preprocessing import OneHotEncoder\n",
    "\n",
    "from sklearn.pipeline import Pipeline\n",
    "\n",
    "# Sélectionner la variable cible et les variables explicatives\n",
    "Y = df['prix']\n",
    "X = df[['etat_de_route', 'nombre_portes',        'empattement',        'longueur_voiture', 'largeur_voiture', 'hauteur_voiture',        'poids_vehicule', 'nombre_cylindres', 'moteur_cc3',        'taux_alésage', 'course', 'taux_compression',        'chevaux', 'tour_moteur', 'consommation_ville',        'consommation_autoroute', \"marque\", \"modele\", 'carburant', 'turbo',        'type_vehicule', 'roues_motrices', 'emplacement_moteur', 'type_moteur',        'systeme_carburant']]\n",
    "\n",
    "X_train, X_test, y_train, y_test = train_test_split(X, Y, train_size=0.8, random_state=42)\n",
    "\n",
    "X_num = X[['etat_de_route', 'nombre_portes', 'empattement', 'longueur_voiture', 'largeur_voiture', 'hauteur_voiture', 'poids_vehicule', 'nombre_cylindres', 'moteur_cc3', 'taux_alésage', 'course', 'taux_compression', 'chevaux', 'tour_moteur', 'consommation_ville', 'consommation_autoroute']]\n",
    "X_cat = X[[\"marque\", \"modele\", 'carburant', 'turbo', 'type_vehicule', 'roues_motrices', 'emplacement_moteur', 'type_moteur', 'systeme_carburant']]\n",
    "\n",
    "ttt_num = Pipeline(steps=[('scaler', MinMaxScaler())])\n",
    "ttt_cat = Pipeline(steps=[('encoder', OneHotEncoder(handle_unknown='ignore', sparse=False))])\n",
    "\n",
    "preprocessor = ColumnTransformer(transformers=[\n",
    "    ('num', ttt_num, X_num.columns),\n",
    "    ('cat', ttt_cat, X_cat.columns)\n",
    "])\n",
    "\n",
    "ridge = Lasso()\n",
    "\n",
    "pipe = Pipeline([\n",
    "    ('prep', preprocessor),     \n",
    "    ('knn', ridge)              \n",
    "])\n",
    "# pipe.set_params(knn__alpha=4.7)\n",
    "\n",
    "param_grid = {'knn': [0.1, 0.5, 1.0, 2.0, 4,4.5,4.6,4.7,4.8,4.9,5.0,5.1,5.4,5.9]} # valeurs à tester pour alpha\n",
    "grid_search = GridSearchCV(pipe, param_grid, cv=5) # définition de l'objet GridSearchCV\n",
    "grid_search.fit(X_train, y_train) # ajustement avec GridSearchCV sur les données d'entraînement\n",
    "print(grid_search.best_params_) # affichage des meilleurs paramètres\n",
    "print(grid_search.best_score_)"
   ]
  },
  {
   "cell_type": "code",
   "execution_count": null,
   "metadata": {},
   "outputs": [
    {
     "ename": "NameError",
     "evalue": "name 'df' is not defined",
     "output_type": "error",
     "traceback": [
      "\u001b[0;31m---------------------------------------------------------------------------\u001b[0m",
      "\u001b[0;31mNameError\u001b[0m                                 Traceback (most recent call last)",
      "Cell \u001b[0;32mIn[1], line 10\u001b[0m\n\u001b[1;32m      7\u001b[0m \u001b[39mfrom\u001b[39;00m \u001b[39msklearn\u001b[39;00m\u001b[39m.\u001b[39;00m\u001b[39mpipeline\u001b[39;00m \u001b[39mimport\u001b[39;00m Pipeline\n\u001b[1;32m      9\u001b[0m \u001b[39m# Sélectionner la variable cible et les variables explicatives\u001b[39;00m\n\u001b[0;32m---> 10\u001b[0m Y \u001b[39m=\u001b[39m df[\u001b[39m'\u001b[39m\u001b[39mprix\u001b[39m\u001b[39m'\u001b[39m]\n\u001b[1;32m     11\u001b[0m X \u001b[39m=\u001b[39m df[[\u001b[39m'\u001b[39m\u001b[39metat_de_route\u001b[39m\u001b[39m'\u001b[39m, \u001b[39m'\u001b[39m\u001b[39mnombre_portes\u001b[39m\u001b[39m'\u001b[39m,        \u001b[39m'\u001b[39m\u001b[39mempattement\u001b[39m\u001b[39m'\u001b[39m,        \u001b[39m'\u001b[39m\u001b[39mlongueur_voiture\u001b[39m\u001b[39m'\u001b[39m, \u001b[39m'\u001b[39m\u001b[39mlargeur_voiture\u001b[39m\u001b[39m'\u001b[39m, \u001b[39m'\u001b[39m\u001b[39mhauteur_voiture\u001b[39m\u001b[39m'\u001b[39m,        \u001b[39m'\u001b[39m\u001b[39mpoids_vehicule\u001b[39m\u001b[39m'\u001b[39m, \u001b[39m'\u001b[39m\u001b[39mnombre_cylindres\u001b[39m\u001b[39m'\u001b[39m, \u001b[39m'\u001b[39m\u001b[39mmoteur_cc3\u001b[39m\u001b[39m'\u001b[39m,        \u001b[39m'\u001b[39m\u001b[39mtaux_alésage\u001b[39m\u001b[39m'\u001b[39m, \u001b[39m'\u001b[39m\u001b[39mcourse\u001b[39m\u001b[39m'\u001b[39m, \u001b[39m'\u001b[39m\u001b[39mtaux_compression\u001b[39m\u001b[39m'\u001b[39m,        \u001b[39m'\u001b[39m\u001b[39mchevaux\u001b[39m\u001b[39m'\u001b[39m, \u001b[39m'\u001b[39m\u001b[39mtour_moteur\u001b[39m\u001b[39m'\u001b[39m, \u001b[39m'\u001b[39m\u001b[39mconsommation_ville\u001b[39m\u001b[39m'\u001b[39m,        \u001b[39m'\u001b[39m\u001b[39mconsommation_autoroute\u001b[39m\u001b[39m'\u001b[39m, \u001b[39m\"\u001b[39m\u001b[39mmarque\u001b[39m\u001b[39m\"\u001b[39m, \u001b[39m\"\u001b[39m\u001b[39mmodele\u001b[39m\u001b[39m\"\u001b[39m, \u001b[39m'\u001b[39m\u001b[39mcarburant\u001b[39m\u001b[39m'\u001b[39m, \u001b[39m'\u001b[39m\u001b[39mturbo\u001b[39m\u001b[39m'\u001b[39m,        \u001b[39m'\u001b[39m\u001b[39mtype_vehicule\u001b[39m\u001b[39m'\u001b[39m, \u001b[39m'\u001b[39m\u001b[39mroues_motrices\u001b[39m\u001b[39m'\u001b[39m, \u001b[39m'\u001b[39m\u001b[39memplacement_moteur\u001b[39m\u001b[39m'\u001b[39m, \u001b[39m'\u001b[39m\u001b[39mtype_moteur\u001b[39m\u001b[39m'\u001b[39m,        \u001b[39m'\u001b[39m\u001b[39msysteme_carburant\u001b[39m\u001b[39m'\u001b[39m]]\n\u001b[1;32m     13\u001b[0m X_train, X_test, y_train, y_test \u001b[39m=\u001b[39m train_test_split(X, Y, train_size\u001b[39m=\u001b[39m\u001b[39m0.8\u001b[39m, random_state\u001b[39m=\u001b[39m\u001b[39m42\u001b[39m)\n",
      "\u001b[0;31mNameError\u001b[0m: name 'df' is not defined"
     ]
    }
   ],
   "source": [
    "from sklearn.model_selection import GridSearchCV\n",
    "from sklearn.preprocessing import MinMaxScaler\n",
    "from sklearn.compose import ColumnTransformer  \n",
    "from sklearn.preprocessing import OneHotEncoder\n",
    "from sklearn.preprocessing import PolynomialFeatures\n",
    "\n",
    "from sklearn.pipeline import Pipeline\n",
    "\n",
    "# Sélectionner la variable cible et les variables explicatives\n",
    "Y = df['prix']\n",
    "X = df[['etat_de_route', 'nombre_portes',        'empattement',        'longueur_voiture', 'largeur_voiture', 'hauteur_voiture',        'poids_vehicule', 'nombre_cylindres', 'moteur_cc3',        'taux_alésage', 'course', 'taux_compression',        'chevaux', 'tour_moteur', 'consommation_ville',        'consommation_autoroute', \"marque\", \"modele\", 'carburant', 'turbo',        'type_vehicule', 'roues_motrices', 'emplacement_moteur', 'type_moteur',        'systeme_carburant']]\n",
    "\n",
    "X_train, X_test, y_train, y_test = train_test_split(X, Y, train_size=0.8, random_state=42)\n",
    "\n",
    "X_num = X[['etat_de_route', 'nombre_portes', 'empattement', 'longueur_voiture', 'largeur_voiture', 'hauteur_voiture', 'poids_vehicule', 'nombre_cylindres', 'moteur_cc3', 'taux_alésage', 'course', 'taux_compression', 'chevaux', 'tour_moteur', 'consommation_ville', 'consommation_autoroute']]\n",
    "X_cat = X[[\"marque\", \"modele\", 'carburant', 'turbo', 'type_vehicule', 'roues_motrices', 'emplacement_moteur', 'type_moteur', 'systeme_carburant']]\n",
    "\n",
    "ttt_num = Pipeline(steps=[('scaler', MinMaxScaler()), ('poly', PolynomialFeatures(degree=2))])\n",
    "ttt_cat = Pipeline(steps=[('encoder', OneHotEncoder(handle_unknown='ignore', sparse=False))])\n",
    "\n",
    "preprocessor = ColumnTransformer(transformers=[\n",
    "    ('num', ttt_num, X_num.columns),\n",
    "    ('cat', ttt_cat, X_cat.columns)\n",
    "])\n",
    "\n",
    "ridge = Lasso()\n",
    "\n",
    "pipe = Pipeline([\n",
    "    ('prep', preprocessor),     \n",
    "    ('knn', ridge)              \n",
    "])\n",
    "# pipe.set_params(knn__alpha=4.7)\n",
    "\n",
    "param_grid = {'knn__alpha': [0.1, 0.5, 1.0, 2.0, 4,4.5,4.6,4.7,4.8,4.9,5.0,5.1,5.4,5.9]} # valeurs à tester pour alpha\n",
    "grid_search = GridSearchCV(pipe, param_grid, cv=5) # définition de l'objet GridSearchCV\n",
    "grid_search.fit(X_train, y_train) # ajustement avec GridSearchCV sur les données d'entraînement\n",
    "print(grid_search.best_params_) # affichage des meilleurs paramètres\n",
    "print(grid_search.best_score_)\n",
    "trained_pipe = pipe.fit(X_train, y_train)\n",
    "\n",
    "# # prediction sur X_test\n",
    "# trained_pipe.predict(X_test)\n",
    "\n",
    "# # scoring sur X_test\n",
    "# trained_pipe.score(X_test, y_test)\n",
    "\n",
    "pipeline = pipe\n",
    "#=make_pipeline(StandardScaler(),\n",
    " #                       LogisticRegression(penalty='l2', solver='lbfgs', random_state=1, max_iter=10000))\n",
    "#\n",
    "# Use learning curve to get training and test scores along with train sizes\n",
    "#\n",
    "train_sizes, train_scores, test_scores = learning_curve(estimator=pipeline, X=X_train, y=y_train,\n",
    "                                                       cv=10, train_sizes=np.linspace(0.1, 1.0, 10),\n",
    "                                                     n_jobs=1)\n",
    "# #\n",
    "# # Calculate training and test mean and std\n",
    "# #\n",
    "train_mean = np.mean(train_scores, axis=1)\n",
    "train_std = np.std(train_scores, axis=1)\n",
    "test_mean = np.mean(test_scores, axis=1)\n",
    "test_std = np.std(test_scores, axis=1)\n",
    "# #\n",
    "# # Plot the learning curve\n",
    "# #\n",
    "plt.plot(train_sizes, train_mean, color='blue', marker='o', markersize=5, label='Training Accuracy')\n",
    "plt.fill_between(train_sizes, train_mean + train_std, train_mean - train_std, alpha=0.15, color='blue')\n",
    "plt.plot(train_sizes, test_mean, color='green', marker='+', markersize=5, linestyle='--', label='Validation Accuracy')\n",
    "plt.fill_between(train_sizes, test_mean + test_std, test_mean - test_std, alpha=0.15, color='green')\n",
    "plt.title('Learning Curve')\n",
    "plt.xlabel('Training Data Size')\n",
    "plt.ylabel('Model accuracy')\n",
    "plt.grid()\n",
    "plt.legend(loc='lower right')\n",
    "plt.savefig('learning_curve.png')\n",
    "plt.show()"
   ]
  },
  {
   "cell_type": "code",
   "execution_count": null,
   "metadata": {},
   "outputs": [
    {
     "ename": "NameError",
     "evalue": "name 'KNeighborsRegressor' is not defined",
     "output_type": "error",
     "traceback": [
      "\u001b[0;31m---------------------------------------------------------------------------\u001b[0m",
      "\u001b[0;31mNameError\u001b[0m                                 Traceback (most recent call last)",
      "Cell \u001b[0;32mIn[53], line 10\u001b[0m\n\u001b[1;32m      8\u001b[0m \u001b[39m# Définition des modèles\u001b[39;00m\n\u001b[1;32m      9\u001b[0m ridge \u001b[39m=\u001b[39m Ridge()\n\u001b[0;32m---> 10\u001b[0m knn \u001b[39m=\u001b[39m KNeighborsRegressor()\n\u001b[1;32m     12\u001b[0m \u001b[39m# Prétraitement des données\u001b[39;00m\n\u001b[1;32m     13\u001b[0m preprocessor \u001b[39m=\u001b[39m ColumnTransformer(\n\u001b[1;32m     14\u001b[0m     transformers\u001b[39m=\u001b[39m[\n\u001b[1;32m     15\u001b[0m         (\u001b[39m'\u001b[39m\u001b[39mnum\u001b[39m\u001b[39m'\u001b[39m, num_transformer, num_cols),\n\u001b[1;32m     16\u001b[0m         (\u001b[39m'\u001b[39m\u001b[39mcat\u001b[39m\u001b[39m'\u001b[39m, cat_transformer, cat_cols)\n\u001b[1;32m     17\u001b[0m     ])\n",
      "\u001b[0;31mNameError\u001b[0m: name 'KNeighborsRegressor' is not defined"
     ]
    }
   ],
   "source": [
    "from sklearn.model_selection import GridSearchCV\n",
    "\n",
    "# Définition de la grille de paramètres pour KNeighborsRegressor\n",
    "k_range = list(range(1, 12))\n",
    "quelle_facon = ['uniform', 'distance']\n",
    "param_grid = dict(n_neighbors=k_range, weights=quelle_facon)\n",
    "\n",
    "# Définition des modèles\n",
    "ridge = Ridge()\n",
    "knn = Lasso()\n",
    "\n",
    "# Prétraitement des données\n",
    "preprocessor = ColumnTransformer(\n",
    "    transformers=[\n",
    "        ('num', num_transformer, num_cols),\n",
    "        ('cat', cat_transformer, cat_cols)\n",
    "    ])\n",
    "\n",
    "# Pipeline pour Ridge\n",
    "ridge_pipe = Pipeline([\n",
    "    ('preprocessor', preprocessor),\n",
    "    ('polynomial_features', poly),\n",
    "    ('ridge', ridge)\n",
    "])\n",
    "\n",
    "# Pipeline pour KNeighborsRegressor\n",
    "knn_pipe = Pipeline([\n",
    "    ('preprocessor', preprocessor),\n",
    "    ('polynomial_features', poly),\n",
    "    ('knn', knn)\n",
    "])\n",
    "\n",
    "# Définition de la grille de paramètres pour Ridge\n",
    "param_grid_ridge = {\n",
    "    'polynomial_features__degree': [1, 2, 3],\n",
    "    'ridge__alpha': [0.001, 0.01, 0.1, 1, 10, 100]\n",
    "}\n",
    "\n",
    "# Recherche de grille pour Ridge\n",
    "grid_ridge = GridSearchCV(ridge_pipe, param_grid=param_grid_ridge, cv=5, scoring='r2')\n",
    "grid_ridge.fit(X_train, y_train)\n",
    "\n",
    "# Affichage du meilleur score et des meilleurs paramètres pour Ridge\n",
    "print(\"Best Score for Ridge: \", grid_ridge.best_score_)\n",
    "print(\"Best Parameters for Ridge: \", grid_ridge.best_params_)\n",
    "\n",
    "# Définition de la grille de paramètres pour KNeighborsRegressor\n",
    "param_grid_knn = {\n",
    "    'polynomial_features__degree': [1, 2, 3],\n",
    "    'knn__n_neighbors': k_range,\n",
    "    'knn__weights': quelle_facon\n",
    "}\n",
    "\n",
    "# Recherche de grille pour KNeighborsRegressor\n",
    "grid_knn = GridSearchCV(knn_pipe, param_grid=param_grid_knn, cv=5, scoring='r2')\n",
    "grid_knn.fit(X_train, y_train)\n",
    "\n",
    "# Affichage du meilleur score et des meilleurs paramètres pour KNeighborsRegressor\n",
    "print(\"Best Score for KNeighborsRegressor: \", grid_knn.best_score_)\n",
    "print(\"Best Parameters for KNeighborsRegressor: \", grid_knn.best_params_)"
   ]
  },
  {
   "cell_type": "code",
   "execution_count": 29,
   "metadata": {},
   "outputs": [
    {
     "ename": "NameError",
     "evalue": "name 'etat_de_route' is not defined",
     "output_type": "error",
     "traceback": [
      "\u001b[0;31m---------------------------------------------------------------------------\u001b[0m",
      "\u001b[0;31mNameError\u001b[0m                                 Traceback (most recent call last)",
      "Cell \u001b[0;32mIn[29], line 1\u001b[0m\n\u001b[0;32m----> 1\u001b[0m dico\u001b[39m=\u001b[39m{\u001b[39m'\u001b[39m\u001b[39metat_de_route\u001b[39m\u001b[39m'\u001b[39m: etat_de_route, \u001b[39m'\u001b[39m\u001b[39mnombre_portes\u001b[39m\u001b[39m'\u001b[39m: nombre_portes, \n\u001b[1;32m      2\u001b[0m                       \u001b[39m'\u001b[39m\u001b[39mempattement\u001b[39m\u001b[39m'\u001b[39m: empattement, \u001b[39m'\u001b[39m\u001b[39mlongueur_voiture\u001b[39m\u001b[39m'\u001b[39m: longueur, \n\u001b[1;32m      3\u001b[0m                       \u001b[39m'\u001b[39m\u001b[39mlargeur_voiture\u001b[39m\u001b[39m'\u001b[39m: largeur, \u001b[39m'\u001b[39m\u001b[39mhauteur_voiture\u001b[39m\u001b[39m'\u001b[39m: hauteur, \n\u001b[1;32m      4\u001b[0m                       \u001b[39m'\u001b[39m\u001b[39mpoids_vehicule\u001b[39m\u001b[39m'\u001b[39m: poids, \u001b[39m'\u001b[39m\u001b[39mnombre_cylindres\u001b[39m\u001b[39m'\u001b[39m: nombre_cylindres, \n\u001b[1;32m      5\u001b[0m                       \u001b[39m'\u001b[39m\u001b[39mmoteur_cc3\u001b[39m\u001b[39m'\u001b[39m: moteur_cc3, \u001b[39m'\u001b[39m\u001b[39mtaux_alésage\u001b[39m\u001b[39m'\u001b[39m: taux_alésage,  \n\u001b[1;32m      6\u001b[0m                       \u001b[39m'\u001b[39m\u001b[39mtaux_compression\u001b[39m\u001b[39m'\u001b[39m: taux_compression, \u001b[39m'\u001b[39m\u001b[39mchevaux\u001b[39m\u001b[39m'\u001b[39m: chevaux, \n\u001b[1;32m      7\u001b[0m                       \u001b[39m'\u001b[39m\u001b[39mtour_moteur\u001b[39m\u001b[39m'\u001b[39m: tour_moteur, \u001b[39m'\u001b[39m\u001b[39mconsommation_ville\u001b[39m\u001b[39m'\u001b[39m: consommation_ville, \n\u001b[1;32m      8\u001b[0m                       \u001b[39m'\u001b[39m\u001b[39mconsommation_autoroute\u001b[39m\u001b[39m'\u001b[39m: consommation_autoroute, \u001b[39m'\u001b[39m\u001b[39mmarque\u001b[39m\u001b[39m'\u001b[39m: marque, \n\u001b[1;32m      9\u001b[0m                       \u001b[39m'\u001b[39m\u001b[39mmodele\u001b[39m\u001b[39m'\u001b[39m: modele, \u001b[39m'\u001b[39m\u001b[39mcarburant\u001b[39m\u001b[39m'\u001b[39m: carburant, \u001b[39m'\u001b[39m\u001b[39mturbo\u001b[39m\u001b[39m'\u001b[39m: turbo, \n\u001b[1;32m     10\u001b[0m                       \u001b[39m'\u001b[39m\u001b[39mtype_vehicule\u001b[39m\u001b[39m'\u001b[39m: type_vehicule, \u001b[39m'\u001b[39m\u001b[39mroues_motrices\u001b[39m\u001b[39m'\u001b[39m: roues_motrices, \n\u001b[1;32m     11\u001b[0m                       \u001b[39m'\u001b[39m\u001b[39memplacement_moteur\u001b[39m\u001b[39m'\u001b[39m: emplacement_moteur, \u001b[39m'\u001b[39m\u001b[39mtype_moteur\u001b[39m\u001b[39m'\u001b[39m: type_moteur, \n\u001b[1;32m     12\u001b[0m                       \u001b[39m'\u001b[39m\u001b[39msysteme_carburant\u001b[39m\u001b[39m'\u001b[39m: systeme_carburant}\n\u001b[1;32m     13\u001b[0m taille \u001b[39m=\u001b[39m \u001b[39mlen\u001b[39m(dico)\n\u001b[1;32m     14\u001b[0m \u001b[39mprint\u001b[39m(taille)\n",
      "\u001b[0;31mNameError\u001b[0m: name 'etat_de_route' is not defined"
     ]
    }
   ],
   "source": [
    "dico={'etat_de_route': etat_de_route, 'nombre_portes': nombre_portes, \n",
    "                      'empattement': empattement, 'longueur_voiture': longueur, \n",
    "                      'largeur_voiture': largeur, 'hauteur_voiture': hauteur, \n",
    "                      'poids_vehicule': poids, 'nombre_cylindres': nombre_cylindres, \n",
    "                      'moteur_cc3': moteur_cc3, 'taux_alésage': taux_alésage,  \n",
    "                      'taux_compression': taux_compression, 'chevaux': chevaux, \n",
    "                      'tour_moteur': tour_moteur, 'consommation_ville': consommation_ville, \n",
    "                      'consommation_autoroute': consommation_autoroute, 'marque': marque, \n",
    "                      'modele': modele, 'carburant': carburant, 'turbo': turbo, \n",
    "                      'type_vehicule': type_vehicule, 'roues_motrices': roues_motrices, \n",
    "                      'emplacement_moteur': emplacement_moteur, 'type_moteur': type_moteur, \n",
    "                      'systeme_carburant': systeme_carburant}\n",
    "taille = len(dico)\n",
    "print(taille)"
   ]
  },
  {
   "cell_type": "code",
   "execution_count": 28,
   "metadata": {},
   "outputs": [
    {
     "name": "stdout",
     "output_type": "stream",
     "text": [
      "Number of expected features: 25\n"
     ]
    },
    {
     "name": "stderr",
     "output_type": "stream",
     "text": [
      "/home/apprenant/miniconda3/envs/sklearn-env/lib/python3.11/site-packages/sklearn/base.py:318: UserWarning: Trying to unpickle estimator MinMaxScaler from version 1.2.1 when using version 1.2.2. This might lead to breaking code or invalid results. Use at your own risk. For more info please refer to:\n",
      "https://scikit-learn.org/stable/model_persistence.html#security-maintainability-limitations\n",
      "  warnings.warn(\n",
      "/home/apprenant/miniconda3/envs/sklearn-env/lib/python3.11/site-packages/sklearn/base.py:318: UserWarning: Trying to unpickle estimator Pipeline from version 1.2.1 when using version 1.2.2. This might lead to breaking code or invalid results. Use at your own risk. For more info please refer to:\n",
      "https://scikit-learn.org/stable/model_persistence.html#security-maintainability-limitations\n",
      "  warnings.warn(\n",
      "/home/apprenant/miniconda3/envs/sklearn-env/lib/python3.11/site-packages/sklearn/base.py:318: UserWarning: Trying to unpickle estimator OneHotEncoder from version 1.2.1 when using version 1.2.2. This might lead to breaking code or invalid results. Use at your own risk. For more info please refer to:\n",
      "https://scikit-learn.org/stable/model_persistence.html#security-maintainability-limitations\n",
      "  warnings.warn(\n",
      "/home/apprenant/miniconda3/envs/sklearn-env/lib/python3.11/site-packages/sklearn/base.py:318: UserWarning: Trying to unpickle estimator Pipeline from version 1.2.1 when using version 1.2.2. This might lead to breaking code or invalid results. Use at your own risk. For more info please refer to:\n",
      "https://scikit-learn.org/stable/model_persistence.html#security-maintainability-limitations\n",
      "  warnings.warn(\n",
      "/home/apprenant/miniconda3/envs/sklearn-env/lib/python3.11/site-packages/sklearn/base.py:318: UserWarning: Trying to unpickle estimator MinMaxScaler from version 1.2.1 when using version 1.2.2. This might lead to breaking code or invalid results. Use at your own risk. For more info please refer to:\n",
      "https://scikit-learn.org/stable/model_persistence.html#security-maintainability-limitations\n",
      "  warnings.warn(\n",
      "/home/apprenant/miniconda3/envs/sklearn-env/lib/python3.11/site-packages/sklearn/base.py:318: UserWarning: Trying to unpickle estimator Pipeline from version 1.2.1 when using version 1.2.2. This might lead to breaking code or invalid results. Use at your own risk. For more info please refer to:\n",
      "https://scikit-learn.org/stable/model_persistence.html#security-maintainability-limitations\n",
      "  warnings.warn(\n",
      "/home/apprenant/miniconda3/envs/sklearn-env/lib/python3.11/site-packages/sklearn/base.py:318: UserWarning: Trying to unpickle estimator OneHotEncoder from version 1.2.1 when using version 1.2.2. This might lead to breaking code or invalid results. Use at your own risk. For more info please refer to:\n",
      "https://scikit-learn.org/stable/model_persistence.html#security-maintainability-limitations\n",
      "  warnings.warn(\n",
      "/home/apprenant/miniconda3/envs/sklearn-env/lib/python3.11/site-packages/sklearn/base.py:318: UserWarning: Trying to unpickle estimator ColumnTransformer from version 1.2.1 when using version 1.2.2. This might lead to breaking code or invalid results. Use at your own risk. For more info please refer to:\n",
      "https://scikit-learn.org/stable/model_persistence.html#security-maintainability-limitations\n",
      "  warnings.warn(\n",
      "/home/apprenant/miniconda3/envs/sklearn-env/lib/python3.11/site-packages/sklearn/base.py:318: UserWarning: Trying to unpickle estimator Lasso from version 1.2.1 when using version 1.2.2. This might lead to breaking code or invalid results. Use at your own risk. For more info please refer to:\n",
      "https://scikit-learn.org/stable/model_persistence.html#security-maintainability-limitations\n",
      "  warnings.warn(\n"
     ]
    },
    {
     "data": {
      "text/html": [
       "<style>#sk-container-id-1 {color: black;background-color: white;}#sk-container-id-1 pre{padding: 0;}#sk-container-id-1 div.sk-toggleable {background-color: white;}#sk-container-id-1 label.sk-toggleable__label {cursor: pointer;display: block;width: 100%;margin-bottom: 0;padding: 0.3em;box-sizing: border-box;text-align: center;}#sk-container-id-1 label.sk-toggleable__label-arrow:before {content: \"▸\";float: left;margin-right: 0.25em;color: #696969;}#sk-container-id-1 label.sk-toggleable__label-arrow:hover:before {color: black;}#sk-container-id-1 div.sk-estimator:hover label.sk-toggleable__label-arrow:before {color: black;}#sk-container-id-1 div.sk-toggleable__content {max-height: 0;max-width: 0;overflow: hidden;text-align: left;background-color: #f0f8ff;}#sk-container-id-1 div.sk-toggleable__content pre {margin: 0.2em;color: black;border-radius: 0.25em;background-color: #f0f8ff;}#sk-container-id-1 input.sk-toggleable__control:checked~div.sk-toggleable__content {max-height: 200px;max-width: 100%;overflow: auto;}#sk-container-id-1 input.sk-toggleable__control:checked~label.sk-toggleable__label-arrow:before {content: \"▾\";}#sk-container-id-1 div.sk-estimator input.sk-toggleable__control:checked~label.sk-toggleable__label {background-color: #d4ebff;}#sk-container-id-1 div.sk-label input.sk-toggleable__control:checked~label.sk-toggleable__label {background-color: #d4ebff;}#sk-container-id-1 input.sk-hidden--visually {border: 0;clip: rect(1px 1px 1px 1px);clip: rect(1px, 1px, 1px, 1px);height: 1px;margin: -1px;overflow: hidden;padding: 0;position: absolute;width: 1px;}#sk-container-id-1 div.sk-estimator {font-family: monospace;background-color: #f0f8ff;border: 1px dotted black;border-radius: 0.25em;box-sizing: border-box;margin-bottom: 0.5em;}#sk-container-id-1 div.sk-estimator:hover {background-color: #d4ebff;}#sk-container-id-1 div.sk-parallel-item::after {content: \"\";width: 100%;border-bottom: 1px solid gray;flex-grow: 1;}#sk-container-id-1 div.sk-label:hover label.sk-toggleable__label {background-color: #d4ebff;}#sk-container-id-1 div.sk-serial::before {content: \"\";position: absolute;border-left: 1px solid gray;box-sizing: border-box;top: 0;bottom: 0;left: 50%;z-index: 0;}#sk-container-id-1 div.sk-serial {display: flex;flex-direction: column;align-items: center;background-color: white;padding-right: 0.2em;padding-left: 0.2em;position: relative;}#sk-container-id-1 div.sk-item {position: relative;z-index: 1;}#sk-container-id-1 div.sk-parallel {display: flex;align-items: stretch;justify-content: center;background-color: white;position: relative;}#sk-container-id-1 div.sk-item::before, #sk-container-id-1 div.sk-parallel-item::before {content: \"\";position: absolute;border-left: 1px solid gray;box-sizing: border-box;top: 0;bottom: 0;left: 50%;z-index: -1;}#sk-container-id-1 div.sk-parallel-item {display: flex;flex-direction: column;z-index: 1;position: relative;background-color: white;}#sk-container-id-1 div.sk-parallel-item:first-child::after {align-self: flex-end;width: 50%;}#sk-container-id-1 div.sk-parallel-item:last-child::after {align-self: flex-start;width: 50%;}#sk-container-id-1 div.sk-parallel-item:only-child::after {width: 0;}#sk-container-id-1 div.sk-dashed-wrapped {border: 1px dashed gray;margin: 0 0.4em 0.5em 0.4em;box-sizing: border-box;padding-bottom: 0.4em;background-color: white;}#sk-container-id-1 div.sk-label label {font-family: monospace;font-weight: bold;display: inline-block;line-height: 1.2em;}#sk-container-id-1 div.sk-label-container {text-align: center;}#sk-container-id-1 div.sk-container {/* jupyter's `normalize.less` sets `[hidden] { display: none; }` but bootstrap.min.css set `[hidden] { display: none !important; }` so we also need the `!important` here to be able to override the default hidden behavior on the sphinx rendered scikit-learn.org. See: https://github.com/scikit-learn/scikit-learn/issues/21755 */display: inline-block !important;position: relative;}#sk-container-id-1 div.sk-text-repr-fallback {display: none;}</style><div id=\"sk-container-id-1\" class=\"sk-top-container\"><div class=\"sk-text-repr-fallback\"><pre>Pipeline(steps=[(&#x27;prep&#x27;,\n",
       "                 ColumnTransformer(transformers=[(&#x27;num&#x27;,\n",
       "                                                  Pipeline(steps=[(&#x27;scaler&#x27;,\n",
       "                                                                   MinMaxScaler())]),\n",
       "                                                  Index([&#x27;etat_de_route&#x27;, &#x27;nombre_portes&#x27;, &#x27;empattement&#x27;, &#x27;longueur_voiture&#x27;,\n",
       "       &#x27;largeur_voiture&#x27;, &#x27;hauteur_voiture&#x27;, &#x27;poids_vehicule&#x27;,\n",
       "       &#x27;nombre_cylindres&#x27;, &#x27;moteur_cc3&#x27;, &#x27;taux_alésage&#x27;, &#x27;course&#x27;,\n",
       "       &#x27;taux_compression&#x27;, &#x27;chevaux&#x27;, &#x27;tour_moteur&#x27;, &#x27;consommation_ville&#x27;,\n",
       "       &#x27;consommation_autoroute&#x27;],\n",
       "      dtype=&#x27;object&#x27;)),\n",
       "                                                 (&#x27;cat&#x27;,\n",
       "                                                  Pipeline(steps=[(&#x27;encoder&#x27;,\n",
       "                                                                   OneHotEncoder(handle_unknown=&#x27;ignore&#x27;,\n",
       "                                                                                 sparse=False))]),\n",
       "                                                  Index([&#x27;marque&#x27;, &#x27;modele&#x27;, &#x27;carburant&#x27;, &#x27;turbo&#x27;, &#x27;type_vehicule&#x27;,\n",
       "       &#x27;roues_motrices&#x27;, &#x27;emplacement_moteur&#x27;, &#x27;type_moteur&#x27;,\n",
       "       &#x27;systeme_carburant&#x27;],\n",
       "      dtype=&#x27;object&#x27;))])),\n",
       "                (&#x27;knn&#x27;, Lasso())])</pre><b>In a Jupyter environment, please rerun this cell to show the HTML representation or trust the notebook. <br />On GitHub, the HTML representation is unable to render, please try loading this page with nbviewer.org.</b></div><div class=\"sk-container\" hidden><div class=\"sk-item sk-dashed-wrapped\"><div class=\"sk-label-container\"><div class=\"sk-label sk-toggleable\"><input class=\"sk-toggleable__control sk-hidden--visually\" id=\"sk-estimator-id-1\" type=\"checkbox\" ><label for=\"sk-estimator-id-1\" class=\"sk-toggleable__label sk-toggleable__label-arrow\">Pipeline</label><div class=\"sk-toggleable__content\"><pre>Pipeline(steps=[(&#x27;prep&#x27;,\n",
       "                 ColumnTransformer(transformers=[(&#x27;num&#x27;,\n",
       "                                                  Pipeline(steps=[(&#x27;scaler&#x27;,\n",
       "                                                                   MinMaxScaler())]),\n",
       "                                                  Index([&#x27;etat_de_route&#x27;, &#x27;nombre_portes&#x27;, &#x27;empattement&#x27;, &#x27;longueur_voiture&#x27;,\n",
       "       &#x27;largeur_voiture&#x27;, &#x27;hauteur_voiture&#x27;, &#x27;poids_vehicule&#x27;,\n",
       "       &#x27;nombre_cylindres&#x27;, &#x27;moteur_cc3&#x27;, &#x27;taux_alésage&#x27;, &#x27;course&#x27;,\n",
       "       &#x27;taux_compression&#x27;, &#x27;chevaux&#x27;, &#x27;tour_moteur&#x27;, &#x27;consommation_ville&#x27;,\n",
       "       &#x27;consommation_autoroute&#x27;],\n",
       "      dtype=&#x27;object&#x27;)),\n",
       "                                                 (&#x27;cat&#x27;,\n",
       "                                                  Pipeline(steps=[(&#x27;encoder&#x27;,\n",
       "                                                                   OneHotEncoder(handle_unknown=&#x27;ignore&#x27;,\n",
       "                                                                                 sparse=False))]),\n",
       "                                                  Index([&#x27;marque&#x27;, &#x27;modele&#x27;, &#x27;carburant&#x27;, &#x27;turbo&#x27;, &#x27;type_vehicule&#x27;,\n",
       "       &#x27;roues_motrices&#x27;, &#x27;emplacement_moteur&#x27;, &#x27;type_moteur&#x27;,\n",
       "       &#x27;systeme_carburant&#x27;],\n",
       "      dtype=&#x27;object&#x27;))])),\n",
       "                (&#x27;knn&#x27;, Lasso())])</pre></div></div></div><div class=\"sk-serial\"><div class=\"sk-item sk-dashed-wrapped\"><div class=\"sk-label-container\"><div class=\"sk-label sk-toggleable\"><input class=\"sk-toggleable__control sk-hidden--visually\" id=\"sk-estimator-id-2\" type=\"checkbox\" ><label for=\"sk-estimator-id-2\" class=\"sk-toggleable__label sk-toggleable__label-arrow\">prep: ColumnTransformer</label><div class=\"sk-toggleable__content\"><pre>ColumnTransformer(transformers=[(&#x27;num&#x27;,\n",
       "                                 Pipeline(steps=[(&#x27;scaler&#x27;, MinMaxScaler())]),\n",
       "                                 Index([&#x27;etat_de_route&#x27;, &#x27;nombre_portes&#x27;, &#x27;empattement&#x27;, &#x27;longueur_voiture&#x27;,\n",
       "       &#x27;largeur_voiture&#x27;, &#x27;hauteur_voiture&#x27;, &#x27;poids_vehicule&#x27;,\n",
       "       &#x27;nombre_cylindres&#x27;, &#x27;moteur_cc3&#x27;, &#x27;taux_alésage&#x27;, &#x27;course&#x27;,\n",
       "       &#x27;taux_compression&#x27;, &#x27;chevaux&#x27;, &#x27;tour_moteur&#x27;, &#x27;consommation_ville&#x27;,\n",
       "       &#x27;consommation_autoroute&#x27;],\n",
       "      dtype=&#x27;object&#x27;)),\n",
       "                                (&#x27;cat&#x27;,\n",
       "                                 Pipeline(steps=[(&#x27;encoder&#x27;,\n",
       "                                                  OneHotEncoder(handle_unknown=&#x27;ignore&#x27;,\n",
       "                                                                sparse=False))]),\n",
       "                                 Index([&#x27;marque&#x27;, &#x27;modele&#x27;, &#x27;carburant&#x27;, &#x27;turbo&#x27;, &#x27;type_vehicule&#x27;,\n",
       "       &#x27;roues_motrices&#x27;, &#x27;emplacement_moteur&#x27;, &#x27;type_moteur&#x27;,\n",
       "       &#x27;systeme_carburant&#x27;],\n",
       "      dtype=&#x27;object&#x27;))])</pre></div></div></div><div class=\"sk-parallel\"><div class=\"sk-parallel-item\"><div class=\"sk-item\"><div class=\"sk-label-container\"><div class=\"sk-label sk-toggleable\"><input class=\"sk-toggleable__control sk-hidden--visually\" id=\"sk-estimator-id-3\" type=\"checkbox\" ><label for=\"sk-estimator-id-3\" class=\"sk-toggleable__label sk-toggleable__label-arrow\">num</label><div class=\"sk-toggleable__content\"><pre>Index([&#x27;etat_de_route&#x27;, &#x27;nombre_portes&#x27;, &#x27;empattement&#x27;, &#x27;longueur_voiture&#x27;,\n",
       "       &#x27;largeur_voiture&#x27;, &#x27;hauteur_voiture&#x27;, &#x27;poids_vehicule&#x27;,\n",
       "       &#x27;nombre_cylindres&#x27;, &#x27;moteur_cc3&#x27;, &#x27;taux_alésage&#x27;, &#x27;course&#x27;,\n",
       "       &#x27;taux_compression&#x27;, &#x27;chevaux&#x27;, &#x27;tour_moteur&#x27;, &#x27;consommation_ville&#x27;,\n",
       "       &#x27;consommation_autoroute&#x27;],\n",
       "      dtype=&#x27;object&#x27;)</pre></div></div></div><div class=\"sk-serial\"><div class=\"sk-item\"><div class=\"sk-serial\"><div class=\"sk-item\"><div class=\"sk-estimator sk-toggleable\"><input class=\"sk-toggleable__control sk-hidden--visually\" id=\"sk-estimator-id-4\" type=\"checkbox\" ><label for=\"sk-estimator-id-4\" class=\"sk-toggleable__label sk-toggleable__label-arrow\">MinMaxScaler</label><div class=\"sk-toggleable__content\"><pre>MinMaxScaler()</pre></div></div></div></div></div></div></div></div><div class=\"sk-parallel-item\"><div class=\"sk-item\"><div class=\"sk-label-container\"><div class=\"sk-label sk-toggleable\"><input class=\"sk-toggleable__control sk-hidden--visually\" id=\"sk-estimator-id-5\" type=\"checkbox\" ><label for=\"sk-estimator-id-5\" class=\"sk-toggleable__label sk-toggleable__label-arrow\">cat</label><div class=\"sk-toggleable__content\"><pre>Index([&#x27;marque&#x27;, &#x27;modele&#x27;, &#x27;carburant&#x27;, &#x27;turbo&#x27;, &#x27;type_vehicule&#x27;,\n",
       "       &#x27;roues_motrices&#x27;, &#x27;emplacement_moteur&#x27;, &#x27;type_moteur&#x27;,\n",
       "       &#x27;systeme_carburant&#x27;],\n",
       "      dtype=&#x27;object&#x27;)</pre></div></div></div><div class=\"sk-serial\"><div class=\"sk-item\"><div class=\"sk-serial\"><div class=\"sk-item\"><div class=\"sk-estimator sk-toggleable\"><input class=\"sk-toggleable__control sk-hidden--visually\" id=\"sk-estimator-id-6\" type=\"checkbox\" ><label for=\"sk-estimator-id-6\" class=\"sk-toggleable__label sk-toggleable__label-arrow\">OneHotEncoder</label><div class=\"sk-toggleable__content\"><pre>OneHotEncoder(handle_unknown=&#x27;ignore&#x27;, sparse=False)</pre></div></div></div></div></div></div></div></div></div></div><div class=\"sk-item\"><div class=\"sk-estimator sk-toggleable\"><input class=\"sk-toggleable__control sk-hidden--visually\" id=\"sk-estimator-id-7\" type=\"checkbox\" ><label for=\"sk-estimator-id-7\" class=\"sk-toggleable__label sk-toggleable__label-arrow\">Lasso</label><div class=\"sk-toggleable__content\"><pre>Lasso()</pre></div></div></div></div></div></div></div>"
      ],
      "text/plain": [
       "Pipeline(steps=[('prep',\n",
       "                 ColumnTransformer(transformers=[('num',\n",
       "                                                  Pipeline(steps=[('scaler',\n",
       "                                                                   MinMaxScaler())]),\n",
       "                                                  Index(['etat_de_route', 'nombre_portes', 'empattement', 'longueur_voiture',\n",
       "       'largeur_voiture', 'hauteur_voiture', 'poids_vehicule',\n",
       "       'nombre_cylindres', 'moteur_cc3', 'taux_alésage', 'course',\n",
       "       'taux_compression', 'chevaux', 'tour_moteur', 'consommation_ville',\n",
       "       'consommation_autoroute'],\n",
       "      dtype='object')),\n",
       "                                                 ('cat',\n",
       "                                                  Pipeline(steps=[('encoder',\n",
       "                                                                   OneHotEncoder(handle_unknown='ignore',\n",
       "                                                                                 sparse=False))]),\n",
       "                                                  Index(['marque', 'modele', 'carburant', 'turbo', 'type_vehicule',\n",
       "       'roues_motrices', 'emplacement_moteur', 'type_moteur',\n",
       "       'systeme_carburant'],\n",
       "      dtype='object'))])),\n",
       "                ('knn', Lasso())])"
      ]
     },
     "execution_count": 28,
     "metadata": {},
     "output_type": "execute_result"
    }
   ],
   "source": [
    "import pickle\n",
    "\n",
    "def load_model():\n",
    "    with open('model.pkl', 'rb') as file:\n",
    "        model = pickle.load(file)\n",
    "    print(f\"Number of expected features: {model.n_features_in_}\")\n",
    "    return model\n",
    "\n",
    "load_model()"
   ]
  }
 ],
 "metadata": {
  "kernelspec": {
   "display_name": "sklearn-env",
   "language": "python",
   "name": "python3"
  },
  "language_info": {
   "codemirror_mode": {
    "name": "ipython",
    "version": 3
   },
   "file_extension": ".py",
   "mimetype": "text/x-python",
   "name": "python",
   "nbconvert_exporter": "python",
   "pygments_lexer": "ipython3",
   "version": "3.11.3"
  },
  "orig_nbformat": 4,
  "vscode": {
   "interpreter": {
    "hash": "28ff26c65758d064959116f1d9c8fbca26d00c18c6d798db5e6a86c21bd645e4"
   }
  }
 },
 "nbformat": 4,
 "nbformat_minor": 2
}
