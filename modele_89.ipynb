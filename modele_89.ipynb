{
 "cells": [
  {
   "cell_type": "code",
   "execution_count": 3,
   "metadata": {},
   "outputs": [
    {
     "name": "stderr",
     "output_type": "stream",
     "text": [
      "/home/apprenant/miniconda3/envs/machinelearning/lib/python3.10/site-packages/sklearn/preprocessing/_encoders.py:828: FutureWarning: `sparse` was renamed to `sparse_output` in version 1.2 and will be removed in 1.4. `sparse_output` is ignored unless you leave `sparse` to its default value.\n",
      "  warnings.warn(\n"
     ]
    },
    {
     "data": {
      "text/plain": [
       "0.8919160244690311"
      ]
     },
     "execution_count": 3,
     "metadata": {},
     "output_type": "execute_result"
    }
   ],
   "source": [
    "from sklearn.model_selection import GridSearchCV\n",
    "from sklearn.preprocessing import MinMaxScaler\n",
    "from sklearn.compose import ColumnTransformer  \n",
    "from sklearn.preprocessing import OneHotEncoder\n",
    "from sklearn.pipeline import Pipeline\n",
    "import pandas as pd \n",
    "from sklearn.linear_model import LinearRegression, Lasso, Ridge\n",
    "import seaborn as sns\n",
    "from sklearn.model_selection import train_test_split\n",
    "\n",
    "df=pd.read_csv(\"voiture_final.csv\")\n",
    "# Sélectionner la variable cible et les variables explicatives\n",
    "Y = df['prix']\n",
    "X = df[['etat_de_route', 'nombre_portes',        'empattement',        'longueur_voiture', 'largeur_voiture', 'hauteur_voiture',        'poids_vehicule', 'nombre_cylindres', 'moteur_cc3',        'taux_alésage', 'course', 'taux_compression',        'chevaux', 'tour_moteur', 'consommation_ville',        'consommation_autoroute', \"marque\", \"modele\", 'carburant', 'turbo',        'type_vehicule', 'roues_motrices', 'emplacement_moteur', 'type_moteur',        'systeme_carburant']]\n",
    "\n",
    "X_train, X_test, y_train, y_test = train_test_split(X, Y, train_size=0.8, random_state=42)\n",
    "\n",
    "X_num = X[['etat_de_route', 'nombre_portes', 'empattement', 'longueur_voiture', 'largeur_voiture', 'hauteur_voiture', 'poids_vehicule', 'nombre_cylindres', 'moteur_cc3', 'taux_alésage', 'course', 'taux_compression', 'chevaux', 'tour_moteur', 'consommation_ville', 'consommation_autoroute']]\n",
    "X_cat = X[[\"marque\", \"modele\", 'carburant', 'turbo', 'type_vehicule', 'roues_motrices', 'emplacement_moteur', 'type_moteur', 'systeme_carburant']]\n",
    "\n",
    "ttt_num = Pipeline(steps=[('scaler', MinMaxScaler())])\n",
    "ttt_cat = Pipeline(steps=[('encoder', OneHotEncoder(handle_unknown='ignore', sparse=False))])\n",
    "\n",
    "preprocessor = ColumnTransformer(transformers=[\n",
    "    ('num', ttt_num, X_num.columns),\n",
    "    ('cat', ttt_cat, X_cat.columns)\n",
    "])\n",
    "\n",
    "ridge = Lasso()\n",
    "\n",
    "pipe = Pipeline([\n",
    "    ('prep', preprocessor),     \n",
    "    ('knn', ridge)              \n",
    "])\n",
    "\n",
    "trained_pipe = pipe.fit(X_train, y_train)\n",
    "\n",
    "# prediction sur X_test\n",
    "trained_pipe.predict(X_test)\n",
    "\n",
    "# scoring sur X_test\n",
    "trained_pipe.score(X_test, y_test)\n"
   ]
  },
  {
   "cell_type": "code",
   "execution_count": 5,
   "metadata": {},
   "outputs": [],
   "source": [
    "import pickle\n",
    "\n",
    "with open ('model.pkl','wb') as file:\n",
    "    pickle.dump(trained_pipe, file)"
   ]
  },
  {
   "cell_type": "code",
   "execution_count": 6,
   "metadata": {},
   "outputs": [
    {
     "data": {
      "text/plain": [
       "0    2.68\n",
       "1    2.68\n",
       "2    3.47\n",
       "3    3.40\n",
       "4    3.40\n",
       "Name: course, dtype: float64"
      ]
     },
     "execution_count": 6,
     "metadata": {},
     "output_type": "execute_result"
    }
   ],
   "source": [
    "df['course'].head()"
   ]
  },
  {
   "cell_type": "code",
   "execution_count": 4,
   "metadata": {},
   "outputs": [
    {
     "data": {
      "text/plain": [
       "['price_car.joblib']"
      ]
     },
     "execution_count": 4,
     "metadata": {},
     "output_type": "execute_result"
    }
   ],
   "source": [
    "import joblib\n",
    "joblib.dump(trained_pipe, 'price_car.joblib')\n"
   ]
  }
 ],
 "metadata": {
  "kernelspec": {
   "display_name": "machinelearning",
   "language": "python",
   "name": "python3"
  },
  "language_info": {
   "codemirror_mode": {
    "name": "ipython",
    "version": 3
   },
   "file_extension": ".py",
   "mimetype": "text/x-python",
   "name": "python",
   "nbconvert_exporter": "python",
   "pygments_lexer": "ipython3",
   "version": "3.10.9"
  },
  "orig_nbformat": 4,
  "vscode": {
   "interpreter": {
    "hash": "abfbbb82e5734ddf6fe9d05af3064de704bc0f7110367d6a6ae63e383d8540d0"
   }
  }
 },
 "nbformat": 4,
 "nbformat_minor": 2
}
